{
 "cells": [
  {
   "cell_type": "code",
   "execution_count": 1,
   "metadata": {},
   "outputs": [
    {
     "name": "stdout",
     "output_type": "stream",
     "text": [
      "Populating the interactive namespace from numpy and matplotlib\n"
     ]
    }
   ],
   "source": [
    "import pandas as pd\n",
    "import seaborn as sns\n",
    "import numpy as np\n",
    "from sklearn.preprocessing import StandardScaler\n",
    "from sklearn.linear_model import LogisticRegression\n",
    "from sklearn.model_selection import cross_val_score\n",
    "import lightgbm as lgb\n",
    "from catboost import CatBoostClassifier\n",
    "from sklearn.ensemble import RandomForestClassifier\n",
    "from sklearn.metrics import roc_auc_score\n",
    "from hyperopt import hp, tpe\n",
    "from hyperopt.fmin import fmin\n",
    "import xgboost as xgb\n",
    "from sklearn.model_selection import RandomizedSearchCV\n",
    "from sklearn.model_selection import train_test_split\n",
    "from sklearn import metrics\n",
    "import warnings\n",
    "warnings.filterwarnings(\"ignore\")\n",
    "%pylab inline\n"
   ]
  },
  {
   "cell_type": "code",
   "execution_count": 2,
   "metadata": {
    "scrolled": true
   },
   "outputs": [
    {
     "data": {
      "text/html": [
       "<div>\n",
       "<style scoped>\n",
       "    .dataframe tbody tr th:only-of-type {\n",
       "        vertical-align: middle;\n",
       "    }\n",
       "\n",
       "    .dataframe tbody tr th {\n",
       "        vertical-align: top;\n",
       "    }\n",
       "\n",
       "    .dataframe thead th {\n",
       "        text-align: right;\n",
       "    }\n",
       "</style>\n",
       "<table border=\"1\" class=\"dataframe\">\n",
       "  <thead>\n",
       "    <tr style=\"text-align: right;\">\n",
       "      <th></th>\n",
       "      <th>Var1</th>\n",
       "      <th>Var2</th>\n",
       "      <th>Var3</th>\n",
       "      <th>Var4</th>\n",
       "      <th>Var5</th>\n",
       "      <th>Var6</th>\n",
       "      <th>Var7</th>\n",
       "      <th>Var8</th>\n",
       "      <th>Var9</th>\n",
       "      <th>Var10</th>\n",
       "      <th>...</th>\n",
       "      <th>Var221</th>\n",
       "      <th>Var222</th>\n",
       "      <th>Var223</th>\n",
       "      <th>Var224</th>\n",
       "      <th>Var225</th>\n",
       "      <th>Var226</th>\n",
       "      <th>Var227</th>\n",
       "      <th>Var228</th>\n",
       "      <th>Var229</th>\n",
       "      <th>Var230</th>\n",
       "    </tr>\n",
       "  </thead>\n",
       "  <tbody>\n",
       "    <tr>\n",
       "      <td>0</td>\n",
       "      <td>NaN</td>\n",
       "      <td>NaN</td>\n",
       "      <td>NaN</td>\n",
       "      <td>NaN</td>\n",
       "      <td>NaN</td>\n",
       "      <td>3052.0</td>\n",
       "      <td>NaN</td>\n",
       "      <td>NaN</td>\n",
       "      <td>NaN</td>\n",
       "      <td>NaN</td>\n",
       "      <td>...</td>\n",
       "      <td>Al6ZaUT</td>\n",
       "      <td>vr93T2a</td>\n",
       "      <td>LM8l689qOp</td>\n",
       "      <td>NaN</td>\n",
       "      <td>NaN</td>\n",
       "      <td>fKCe</td>\n",
       "      <td>02N6s8f</td>\n",
       "      <td>xwM2aC7IdeMC0</td>\n",
       "      <td>NaN</td>\n",
       "      <td>NaN</td>\n",
       "    </tr>\n",
       "    <tr>\n",
       "      <td>1</td>\n",
       "      <td>NaN</td>\n",
       "      <td>NaN</td>\n",
       "      <td>NaN</td>\n",
       "      <td>NaN</td>\n",
       "      <td>NaN</td>\n",
       "      <td>1813.0</td>\n",
       "      <td>7.0</td>\n",
       "      <td>NaN</td>\n",
       "      <td>NaN</td>\n",
       "      <td>NaN</td>\n",
       "      <td>...</td>\n",
       "      <td>oslk</td>\n",
       "      <td>6hQ9lNX</td>\n",
       "      <td>LM8l689qOp</td>\n",
       "      <td>NaN</td>\n",
       "      <td>ELof</td>\n",
       "      <td>xb3V</td>\n",
       "      <td>RAYp</td>\n",
       "      <td>55YFVY9</td>\n",
       "      <td>mj86</td>\n",
       "      <td>NaN</td>\n",
       "    </tr>\n",
       "    <tr>\n",
       "      <td>2</td>\n",
       "      <td>NaN</td>\n",
       "      <td>NaN</td>\n",
       "      <td>NaN</td>\n",
       "      <td>NaN</td>\n",
       "      <td>NaN</td>\n",
       "      <td>1953.0</td>\n",
       "      <td>7.0</td>\n",
       "      <td>NaN</td>\n",
       "      <td>NaN</td>\n",
       "      <td>NaN</td>\n",
       "      <td>...</td>\n",
       "      <td>zCkv</td>\n",
       "      <td>catzS2D</td>\n",
       "      <td>LM8l689qOp</td>\n",
       "      <td>NaN</td>\n",
       "      <td>NaN</td>\n",
       "      <td>FSa2</td>\n",
       "      <td>ZI9m</td>\n",
       "      <td>ib5G6X1eUxUn6</td>\n",
       "      <td>mj86</td>\n",
       "      <td>NaN</td>\n",
       "    </tr>\n",
       "    <tr>\n",
       "      <td>3</td>\n",
       "      <td>NaN</td>\n",
       "      <td>NaN</td>\n",
       "      <td>NaN</td>\n",
       "      <td>NaN</td>\n",
       "      <td>NaN</td>\n",
       "      <td>1533.0</td>\n",
       "      <td>7.0</td>\n",
       "      <td>NaN</td>\n",
       "      <td>NaN</td>\n",
       "      <td>NaN</td>\n",
       "      <td>...</td>\n",
       "      <td>oslk</td>\n",
       "      <td>e4lqvY0</td>\n",
       "      <td>LM8l689qOp</td>\n",
       "      <td>NaN</td>\n",
       "      <td>NaN</td>\n",
       "      <td>xb3V</td>\n",
       "      <td>RAYp</td>\n",
       "      <td>F2FyR07IdsN7I</td>\n",
       "      <td>NaN</td>\n",
       "      <td>NaN</td>\n",
       "    </tr>\n",
       "    <tr>\n",
       "      <td>4</td>\n",
       "      <td>NaN</td>\n",
       "      <td>NaN</td>\n",
       "      <td>NaN</td>\n",
       "      <td>NaN</td>\n",
       "      <td>NaN</td>\n",
       "      <td>686.0</td>\n",
       "      <td>7.0</td>\n",
       "      <td>NaN</td>\n",
       "      <td>NaN</td>\n",
       "      <td>NaN</td>\n",
       "      <td>...</td>\n",
       "      <td>oslk</td>\n",
       "      <td>MAz3HNj</td>\n",
       "      <td>LM8l689qOp</td>\n",
       "      <td>NaN</td>\n",
       "      <td>NaN</td>\n",
       "      <td>WqMG</td>\n",
       "      <td>RAYp</td>\n",
       "      <td>F2FyR07IdsN7I</td>\n",
       "      <td>NaN</td>\n",
       "      <td>NaN</td>\n",
       "    </tr>\n",
       "  </tbody>\n",
       "</table>\n",
       "<p>5 rows × 230 columns</p>\n",
       "</div>"
      ],
      "text/plain": [
       "   Var1  Var2  Var3  Var4  Var5    Var6  Var7  Var8  Var9  Var10  ...  \\\n",
       "0   NaN   NaN   NaN   NaN   NaN  3052.0   NaN   NaN   NaN    NaN  ...   \n",
       "1   NaN   NaN   NaN   NaN   NaN  1813.0   7.0   NaN   NaN    NaN  ...   \n",
       "2   NaN   NaN   NaN   NaN   NaN  1953.0   7.0   NaN   NaN    NaN  ...   \n",
       "3   NaN   NaN   NaN   NaN   NaN  1533.0   7.0   NaN   NaN    NaN  ...   \n",
       "4   NaN   NaN   NaN   NaN   NaN   686.0   7.0   NaN   NaN    NaN  ...   \n",
       "\n",
       "    Var221   Var222      Var223  Var224  Var225  Var226   Var227  \\\n",
       "0  Al6ZaUT  vr93T2a  LM8l689qOp     NaN     NaN    fKCe  02N6s8f   \n",
       "1     oslk  6hQ9lNX  LM8l689qOp     NaN    ELof    xb3V     RAYp   \n",
       "2     zCkv  catzS2D  LM8l689qOp     NaN     NaN    FSa2     ZI9m   \n",
       "3     oslk  e4lqvY0  LM8l689qOp     NaN     NaN    xb3V     RAYp   \n",
       "4     oslk  MAz3HNj  LM8l689qOp     NaN     NaN    WqMG     RAYp   \n",
       "\n",
       "          Var228  Var229  Var230  \n",
       "0  xwM2aC7IdeMC0     NaN     NaN  \n",
       "1        55YFVY9    mj86     NaN  \n",
       "2  ib5G6X1eUxUn6    mj86     NaN  \n",
       "3  F2FyR07IdsN7I     NaN     NaN  \n",
       "4  F2FyR07IdsN7I     NaN     NaN  \n",
       "\n",
       "[5 rows x 230 columns]"
      ]
     },
     "execution_count": 2,
     "metadata": {},
     "output_type": "execute_result"
    }
   ],
   "source": [
    "df_data=pd.read_csv(\"orange_small_churn_data.csv\")\n",
    "name=['target']\n",
    "target=pd.read_csv(\"orange_small_churn_labels.csv\",names=name)\n",
    "df_data.head()"
   ]
  },
  {
   "cell_type": "markdown",
   "metadata": {},
   "source": [
    "### Primary data analysis"
   ]
  },
  {
   "cell_type": "markdown",
   "metadata": {},
   "source": [
    "__Drop the columns with 100% of missings__"
   ]
  },
  {
   "cell_type": "code",
   "execution_count": 3,
   "metadata": {},
   "outputs": [
    {
     "data": {
      "text/plain": [
       "(40000, 212)"
      ]
     },
     "execution_count": 3,
     "metadata": {},
     "output_type": "execute_result"
    }
   ],
   "source": [
    "to_drop=[]\n",
    "for i in df_data.columns:\n",
    "    if df_data.isna().sum()[i]/df_data.shape[0]==1:\n",
    "#         print(i,df_data.isna().sum()[i]/df_data.shape[0])\n",
    "        to_drop.append(i)\n",
    "df_data.drop(columns=to_drop,inplace=True)\n",
    "df_data.shape"
   ]
  },
  {
   "cell_type": "markdown",
   "metadata": {},
   "source": [
    "__Creating the hold-out dataset__"
   ]
  },
  {
   "cell_type": "code",
   "execution_count": 4,
   "metadata": {},
   "outputs": [],
   "source": [
    "X_train, X_test, y_train, y_test = train_test_split(df_data, target['target'], test_size=0.1, random_state=42)"
   ]
  },
  {
   "cell_type": "code",
   "execution_count": 5,
   "metadata": {},
   "outputs": [
    {
     "name": "stdout",
     "output_type": "stream",
     "text": [
      "Shape of train datasets, (36000, 212)\n",
      "Shape of test datasets, (4000, 212)\n"
     ]
    }
   ],
   "source": [
    "print(f'Shape of train datasets, {X_train.shape}')\n",
    "print(f'Shape of test datasets, {X_test.shape}')"
   ]
  },
  {
   "cell_type": "code",
   "execution_count": 6,
   "metadata": {},
   "outputs": [],
   "source": [
    "X_train['target']=y_train\n",
    "X_test['target']=y_test\n",
    "hold_out=X_test"
   ]
  },
  {
   "cell_type": "code",
   "execution_count": 7,
   "metadata": {},
   "outputs": [
    {
     "name": "stdout",
     "output_type": "stream",
     "text": [
      "Shape of train datasets with target, (36000, 213)\n",
      "Shape of test datasets with target, (4000, 213)\n"
     ]
    }
   ],
   "source": [
    "print(f'Shape of train datasets with target, {X_train.shape}')\n",
    "print(f'Shape of test datasets with target, {hold_out.shape}')"
   ]
  },
  {
   "cell_type": "code",
   "execution_count": 8,
   "metadata": {},
   "outputs": [
    {
     "name": "stdout",
     "output_type": "stream",
     "text": [
      "Var1      98.555556\n",
      "Var2      97.477778\n",
      "Var3      97.480556\n",
      "Var4      96.883333\n",
      "Var5      97.083333\n",
      "            ...    \n",
      "Var226     0.000000\n",
      "Var227     0.000000\n",
      "Var228     0.000000\n",
      "Var229    56.858333\n",
      "target     0.000000\n",
      "Length: 213, dtype: float64\n"
     ]
    }
   ],
   "source": [
    "print(f'{X_train.isna().sum()/X_train.shape[0]*100}')"
   ]
  },
  {
   "cell_type": "markdown",
   "metadata": {},
   "source": [
    "__There are a lot of missings. We have to delete the columns which have missing more than selected threshold.  \n",
    "Deleting columns which have more than 50% of missings is one of the most popular approach.   \n",
    "But firstly we have to check how many columns will be deleted with different thresholds__"
   ]
  },
  {
   "cell_type": "code",
   "execution_count": 9,
   "metadata": {},
   "outputs": [
    {
     "data": {
      "text/plain": [
       "{0.0: 193,\n",
       " 0.05: 184,\n",
       " 0.1: 164,\n",
       " 0.15000000000000002: 146,\n",
       " 0.2: 146,\n",
       " 0.25: 146,\n",
       " 0.30000000000000004: 145,\n",
       " 0.35000000000000003: 145,\n",
       " 0.4: 145,\n",
       " 0.45: 143,\n",
       " 0.5: 143,\n",
       " 0.55: 140,\n",
       " 0.6000000000000001: 138,\n",
       " 0.65: 138,\n",
       " 0.7000000000000001: 138,\n",
       " 0.75: 136,\n",
       " 0.8: 136,\n",
       " 0.8500000000000001: 136,\n",
       " 0.9: 136,\n",
       " 0.9500000000000001: 135}"
      ]
     },
     "execution_count": 9,
     "metadata": {},
     "output_type": "execute_result"
    }
   ],
   "source": [
    "num_deleted_col={}\n",
    "for i in np.arange(0,1,0.05):\n",
    "    n=0\n",
    "    for j in X_train.columns:\n",
    "        if X_train.isna().sum()[j]/X_train.shape[0]>i:\n",
    "            n+=1\n",
    "    num_deleted_col[i]=n\n",
    "num_deleted_col"
   ]
  },
  {
   "cell_type": "code",
   "execution_count": 10,
   "metadata": {},
   "outputs": [
    {
     "data": {
      "text/plain": [
       "{0.0: 20,\n",
       " 0.05: 29,\n",
       " 0.1: 49,\n",
       " 0.15000000000000002: 67,\n",
       " 0.2: 67,\n",
       " 0.25: 67,\n",
       " 0.30000000000000004: 68,\n",
       " 0.35000000000000003: 68,\n",
       " 0.4: 68,\n",
       " 0.45: 70,\n",
       " 0.5: 70,\n",
       " 0.55: 73,\n",
       " 0.6000000000000001: 75,\n",
       " 0.65: 75,\n",
       " 0.7000000000000001: 75,\n",
       " 0.75: 77,\n",
       " 0.8: 77,\n",
       " 0.8500000000000001: 77,\n",
       " 0.9: 77,\n",
       " 0.9500000000000001: 78}"
      ]
     },
     "execution_count": 10,
     "metadata": {},
     "output_type": "execute_result"
    }
   ],
   "source": [
    "num_remain_col={}\n",
    "for i,j in zip(num_deleted_col.keys(),num_deleted_col.values()):\n",
    "    num_remain_col[i]=X_train.shape[1]-j\n",
    "num_remain_col"
   ]
  },
  {
   "cell_type": "code",
   "execution_count": 11,
   "metadata": {},
   "outputs": [
    {
     "data": {
      "image/png": "[encoded data removed]",
      "text/plain": [
       "<Figure size 432x288 with 1 Axes>"
      ]
     },
     "metadata": {
      "needs_background": "light"
     },
     "output_type": "display_data"
    }
   ],
   "source": [
    "plt.plot(list(num_remain_col.keys()), list(num_remain_col.values()))\n",
    "plt.xlabel('threshold')\n",
    "plt.ylabel('number of remaining columns')\n",
    "plt.grid(True)\n",
    "plt.show()"
   ]
  },
  {
   "cell_type": "markdown",
   "metadata": {},
   "source": [
    "*Based on expert judgment the treshold=75%  was selected*"
   ]
  },
  {
   "cell_type": "code",
   "execution_count": 12,
   "metadata": {},
   "outputs": [
    {
     "data": {
      "text/plain": [
       "(36000, 77)"
      ]
     },
     "execution_count": 12,
     "metadata": {},
     "output_type": "execute_result"
    }
   ],
   "source": [
    "to_drop_75=[]\n",
    "for i in X_train.columns:\n",
    "    if X_train.isna().sum()[i]/X_train.shape[0]>0.75:\n",
    "        to_drop_75.append(i)\n",
    "X_train.drop(columns=to_drop_75,inplace=True)\n",
    "X_train.shape"
   ]
  },
  {
   "cell_type": "markdown",
   "metadata": {},
   "source": [
    "### Preprocessing"
   ]
  },
  {
   "cell_type": "code",
   "execution_count": 13,
   "metadata": {
    "scrolled": true
   },
   "outputs": [
    {
     "name": "stdout",
     "output_type": "stream",
     "text": [
      "<class 'pandas.core.frame.DataFrame'>\n",
      "Int64Index: 36000 entries, 20038 to 15795\n",
      "Data columns (total 77 columns):\n",
      "Var6      32013 non-null float64\n",
      "Var7      32020 non-null float64\n",
      "Var13     32020 non-null float64\n",
      "Var21     32013 non-null float64\n",
      "Var22     32400 non-null float64\n",
      "Var24     30749 non-null float64\n",
      "Var25     32400 non-null float64\n",
      "Var28     32399 non-null float64\n",
      "Var35     32400 non-null float64\n",
      "Var38     32400 non-null float64\n",
      "Var44     32400 non-null float64\n",
      "Var57     36000 non-null float64\n",
      "Var65     32020 non-null float64\n",
      "Var72     19862 non-null float64\n",
      "Var73     36000 non-null int64\n",
      "Var74     32020 non-null float64\n",
      "Var76     32400 non-null float64\n",
      "Var78     32400 non-null float64\n",
      "Var81     32013 non-null float64\n",
      "Var83     32400 non-null float64\n",
      "Var85     32400 non-null float64\n",
      "Var94     19862 non-null float64\n",
      "Var109    30749 non-null float64\n",
      "Var112    32400 non-null float64\n",
      "Var113    36000 non-null float64\n",
      "Var119    32013 non-null float64\n",
      "Var123    32400 non-null float64\n",
      "Var125    32020 non-null float64\n",
      "Var126    25947 non-null float64\n",
      "Var132    32400 non-null float64\n",
      "Var133    32400 non-null float64\n",
      "Var134    32400 non-null float64\n",
      "Var140    32020 non-null float64\n",
      "Var143    32400 non-null float64\n",
      "Var144    32013 non-null float64\n",
      "Var149    30749 non-null float64\n",
      "Var153    32400 non-null float64\n",
      "Var160    32400 non-null float64\n",
      "Var163    32400 non-null float64\n",
      "Var173    32400 non-null float64\n",
      "Var181    32400 non-null float64\n",
      "Var189    15008 non-null float64\n",
      "Var192    35736 non-null object\n",
      "Var193    36000 non-null object\n",
      "Var194    9178 non-null object\n",
      "Var195    36000 non-null object\n",
      "Var196    36000 non-null object\n",
      "Var197    35888 non-null object\n",
      "Var198    36000 non-null object\n",
      "Var199    35996 non-null object\n",
      "Var200    17695 non-null object\n",
      "Var201    9178 non-null object\n",
      "Var202    35999 non-null object\n",
      "Var203    35888 non-null object\n",
      "Var204    36000 non-null object\n",
      "Var205    34607 non-null object\n",
      "Var206    32013 non-null object\n",
      "Var207    36000 non-null object\n",
      "Var208    35888 non-null object\n",
      "Var210    36000 non-null object\n",
      "Var211    36000 non-null object\n",
      "Var212    36000 non-null object\n",
      "Var214    17695 non-null object\n",
      "Var216    36000 non-null object\n",
      "Var217    35493 non-null object\n",
      "Var218    35493 non-null object\n",
      "Var219    32222 non-null object\n",
      "Var220    36000 non-null object\n",
      "Var221    36000 non-null object\n",
      "Var222    36000 non-null object\n",
      "Var223    32222 non-null object\n",
      "Var225    17189 non-null object\n",
      "Var226    36000 non-null object\n",
      "Var227    36000 non-null object\n",
      "Var228    36000 non-null object\n",
      "Var229    15531 non-null object\n",
      "target    36000 non-null int64\n",
      "dtypes: float64(41), int64(2), object(34)\n",
      "memory usage: 21.4+ MB\n"
     ]
    }
   ],
   "source": [
    "X_train.info()"
   ]
  },
  {
   "cell_type": "markdown",
   "metadata": {},
   "source": [
    "Numeric columns"
   ]
  },
  {
   "cell_type": "code",
   "execution_count": 14,
   "metadata": {},
   "outputs": [
    {
     "data": {
      "text/html": [
       "<div>\n",
       "<style scoped>\n",
       "    .dataframe tbody tr th:only-of-type {\n",
       "        vertical-align: middle;\n",
       "    }\n",
       "\n",
       "    .dataframe tbody tr th {\n",
       "        vertical-align: top;\n",
       "    }\n",
       "\n",
       "    .dataframe thead th {\n",
       "        text-align: right;\n",
       "    }\n",
       "</style>\n",
       "<table border=\"1\" class=\"dataframe\">\n",
       "  <thead>\n",
       "    <tr style=\"text-align: right;\">\n",
       "      <th></th>\n",
       "      <th>Var6</th>\n",
       "      <th>Var7</th>\n",
       "      <th>Var13</th>\n",
       "      <th>Var21</th>\n",
       "      <th>Var22</th>\n",
       "      <th>Var24</th>\n",
       "      <th>Var25</th>\n",
       "      <th>Var28</th>\n",
       "      <th>Var35</th>\n",
       "      <th>Var38</th>\n",
       "      <th>...</th>\n",
       "      <th>Var220</th>\n",
       "      <th>Var221</th>\n",
       "      <th>Var222</th>\n",
       "      <th>Var223</th>\n",
       "      <th>Var225</th>\n",
       "      <th>Var226</th>\n",
       "      <th>Var227</th>\n",
       "      <th>Var228</th>\n",
       "      <th>Var229</th>\n",
       "      <th>target</th>\n",
       "    </tr>\n",
       "  </thead>\n",
       "  <tbody>\n",
       "    <tr>\n",
       "      <td>20038</td>\n",
       "      <td>119.000000</td>\n",
       "      <td>0.000000</td>\n",
       "      <td>4.000000</td>\n",
       "      <td>48.000000</td>\n",
       "      <td>60.000000</td>\n",
       "      <td>0.000000</td>\n",
       "      <td>0.000000</td>\n",
       "      <td>20.080000</td>\n",
       "      <td>0.000000</td>\n",
       "      <td>2.076024e+06</td>\n",
       "      <td>...</td>\n",
       "      <td>1YVfGrO</td>\n",
       "      <td>oslk</td>\n",
       "      <td>fXVEsaq</td>\n",
       "      <td>NaN</td>\n",
       "      <td>NaN</td>\n",
       "      <td>xb3V</td>\n",
       "      <td>RAYp</td>\n",
       "      <td>F2FyR07IdsN7I</td>\n",
       "      <td>NaN</td>\n",
       "      <td>1</td>\n",
       "    </tr>\n",
       "    <tr>\n",
       "      <td>23937</td>\n",
       "      <td>1319.489176</td>\n",
       "      <td>6.798876</td>\n",
       "      <td>1247.075328</td>\n",
       "      <td>233.664949</td>\n",
       "      <td>288.889198</td>\n",
       "      <td>4.549611</td>\n",
       "      <td>96.668148</td>\n",
       "      <td>223.973135</td>\n",
       "      <td>0.707716</td>\n",
       "      <td>2.564732e+06</td>\n",
       "      <td>...</td>\n",
       "      <td>EqJsZNf</td>\n",
       "      <td>d0EEeJi</td>\n",
       "      <td>BSis5Dl</td>\n",
       "      <td>LM8l689qOp</td>\n",
       "      <td>NaN</td>\n",
       "      <td>fKCe</td>\n",
       "      <td>02N6s8f</td>\n",
       "      <td>F2FyR07IdsN7I</td>\n",
       "      <td>NaN</td>\n",
       "      <td>-1</td>\n",
       "    </tr>\n",
       "    <tr>\n",
       "      <td>6046</td>\n",
       "      <td>1043.000000</td>\n",
       "      <td>7.000000</td>\n",
       "      <td>60.000000</td>\n",
       "      <td>336.000000</td>\n",
       "      <td>420.000000</td>\n",
       "      <td>10.000000</td>\n",
       "      <td>168.000000</td>\n",
       "      <td>200.000000</td>\n",
       "      <td>0.000000</td>\n",
       "      <td>8.866800e+04</td>\n",
       "      <td>...</td>\n",
       "      <td>KtBOw16</td>\n",
       "      <td>oslk</td>\n",
       "      <td>NKvz4Af</td>\n",
       "      <td>LM8l689qOp</td>\n",
       "      <td>kG3k</td>\n",
       "      <td>WqMG</td>\n",
       "      <td>RAYp</td>\n",
       "      <td>55YFVY9</td>\n",
       "      <td>NaN</td>\n",
       "      <td>-1</td>\n",
       "    </tr>\n",
       "    <tr>\n",
       "      <td>23187</td>\n",
       "      <td>371.000000</td>\n",
       "      <td>0.000000</td>\n",
       "      <td>0.000000</td>\n",
       "      <td>136.000000</td>\n",
       "      <td>170.000000</td>\n",
       "      <td>2.000000</td>\n",
       "      <td>8.000000</td>\n",
       "      <td>286.960000</td>\n",
       "      <td>0.000000</td>\n",
       "      <td>4.245948e+06</td>\n",
       "      <td>...</td>\n",
       "      <td>Nvc6w_1</td>\n",
       "      <td>oslk</td>\n",
       "      <td>EXUR6zD</td>\n",
       "      <td>LM8l689qOp</td>\n",
       "      <td>NaN</td>\n",
       "      <td>453m</td>\n",
       "      <td>RAYp</td>\n",
       "      <td>0pzBWGkV3fbsGZN52DH</td>\n",
       "      <td>NaN</td>\n",
       "      <td>-1</td>\n",
       "    </tr>\n",
       "    <tr>\n",
       "      <td>25421</td>\n",
       "      <td>644.000000</td>\n",
       "      <td>7.000000</td>\n",
       "      <td>0.000000</td>\n",
       "      <td>24.000000</td>\n",
       "      <td>30.000000</td>\n",
       "      <td>0.000000</td>\n",
       "      <td>0.000000</td>\n",
       "      <td>186.640000</td>\n",
       "      <td>0.000000</td>\n",
       "      <td>5.165514e+06</td>\n",
       "      <td>...</td>\n",
       "      <td>FgkjbzC</td>\n",
       "      <td>oslk</td>\n",
       "      <td>5gSwS9i</td>\n",
       "      <td>LM8l689qOp</td>\n",
       "      <td>NaN</td>\n",
       "      <td>uWr3</td>\n",
       "      <td>RAYp</td>\n",
       "      <td>F2FyR07IdsN7I</td>\n",
       "      <td>am7c</td>\n",
       "      <td>-1</td>\n",
       "    </tr>\n",
       "  </tbody>\n",
       "</table>\n",
       "<p>5 rows × 77 columns</p>\n",
       "</div>"
      ],
      "text/plain": [
       "              Var6      Var7        Var13       Var21       Var22      Var24  \\\n",
       "20038   119.000000  0.000000     4.000000   48.000000   60.000000   0.000000   \n",
       "23937  1319.489176  6.798876  1247.075328  233.664949  288.889198   4.549611   \n",
       "6046   1043.000000  7.000000    60.000000  336.000000  420.000000  10.000000   \n",
       "23187   371.000000  0.000000     0.000000  136.000000  170.000000   2.000000   \n",
       "25421   644.000000  7.000000     0.000000   24.000000   30.000000   0.000000   \n",
       "\n",
       "            Var25       Var28     Var35         Var38  ...   Var220   Var221  \\\n",
       "20038    0.000000   20.080000  0.000000  2.076024e+06  ...  1YVfGrO     oslk   \n",
       "23937   96.668148  223.973135  0.707716  2.564732e+06  ...  EqJsZNf  d0EEeJi   \n",
       "6046   168.000000  200.000000  0.000000  8.866800e+04  ...  KtBOw16     oslk   \n",
       "23187    8.000000  286.960000  0.000000  4.245948e+06  ...  Nvc6w_1     oslk   \n",
       "25421    0.000000  186.640000  0.000000  5.165514e+06  ...  FgkjbzC     oslk   \n",
       "\n",
       "        Var222      Var223  Var225  Var226   Var227               Var228  \\\n",
       "20038  fXVEsaq         NaN     NaN    xb3V     RAYp        F2FyR07IdsN7I   \n",
       "23937  BSis5Dl  LM8l689qOp     NaN    fKCe  02N6s8f        F2FyR07IdsN7I   \n",
       "6046   NKvz4Af  LM8l689qOp    kG3k    WqMG     RAYp              55YFVY9   \n",
       "23187  EXUR6zD  LM8l689qOp     NaN    453m     RAYp  0pzBWGkV3fbsGZN52DH   \n",
       "25421  5gSwS9i  LM8l689qOp     NaN    uWr3     RAYp        F2FyR07IdsN7I   \n",
       "\n",
       "       Var229  target  \n",
       "20038     NaN       1  \n",
       "23937     NaN      -1  \n",
       "6046      NaN      -1  \n",
       "23187     NaN      -1  \n",
       "25421    am7c      -1  \n",
       "\n",
       "[5 rows x 77 columns]"
      ]
     },
     "execution_count": 14,
     "metadata": {},
     "output_type": "execute_result"
    }
   ],
   "source": [
    "X_train.loc[:,'Var6':'Var189'] = X_train.loc[:,'Var6':'Var189'].fillna(X_train.loc[:,'Var6':'Var189'].mean())\n",
    "X_train.head()"
   ]
  },
  {
   "cell_type": "markdown",
   "metadata": {},
   "source": [
    "Categorical columns"
   ]
  },
  {
   "cell_type": "code",
   "execution_count": 15,
   "metadata": {},
   "outputs": [
    {
     "data": {
      "text/html": [
       "<div>\n",
       "<style scoped>\n",
       "    .dataframe tbody tr th:only-of-type {\n",
       "        vertical-align: middle;\n",
       "    }\n",
       "\n",
       "    .dataframe tbody tr th {\n",
       "        vertical-align: top;\n",
       "    }\n",
       "\n",
       "    .dataframe thead th {\n",
       "        text-align: right;\n",
       "    }\n",
       "</style>\n",
       "<table border=\"1\" class=\"dataframe\">\n",
       "  <thead>\n",
       "    <tr style=\"text-align: right;\">\n",
       "      <th></th>\n",
       "      <th>Var192</th>\n",
       "      <th>Var193</th>\n",
       "      <th>Var194</th>\n",
       "      <th>Var195</th>\n",
       "      <th>Var196</th>\n",
       "      <th>Var197</th>\n",
       "      <th>Var198</th>\n",
       "      <th>Var199</th>\n",
       "      <th>Var200</th>\n",
       "      <th>Var201</th>\n",
       "      <th>...</th>\n",
       "      <th>Var219</th>\n",
       "      <th>Var220</th>\n",
       "      <th>Var221</th>\n",
       "      <th>Var222</th>\n",
       "      <th>Var223</th>\n",
       "      <th>Var225</th>\n",
       "      <th>Var226</th>\n",
       "      <th>Var227</th>\n",
       "      <th>Var228</th>\n",
       "      <th>Var229</th>\n",
       "    </tr>\n",
       "  </thead>\n",
       "  <tbody>\n",
       "    <tr>\n",
       "      <td>20038</td>\n",
       "      <td>a4vvyxLkBI</td>\n",
       "      <td>RO12</td>\n",
       "      <td>NaN</td>\n",
       "      <td>taul</td>\n",
       "      <td>1K8T</td>\n",
       "      <td>OTVu</td>\n",
       "      <td>ka_ns41</td>\n",
       "      <td>GBSi0Jc1XM</td>\n",
       "      <td>NaN</td>\n",
       "      <td>NaN</td>\n",
       "      <td>...</td>\n",
       "      <td>NaN</td>\n",
       "      <td>1YVfGrO</td>\n",
       "      <td>oslk</td>\n",
       "      <td>fXVEsaq</td>\n",
       "      <td>NaN</td>\n",
       "      <td>NaN</td>\n",
       "      <td>xb3V</td>\n",
       "      <td>RAYp</td>\n",
       "      <td>F2FyR07IdsN7I</td>\n",
       "      <td>NaN</td>\n",
       "    </tr>\n",
       "    <tr>\n",
       "      <td>23937</td>\n",
       "      <td>CEat0G8rTN</td>\n",
       "      <td>RO12</td>\n",
       "      <td>NaN</td>\n",
       "      <td>taul</td>\n",
       "      <td>1K8T</td>\n",
       "      <td>AnrR</td>\n",
       "      <td>ehuz2iK</td>\n",
       "      <td>_UtlxbJ</td>\n",
       "      <td>NaN</td>\n",
       "      <td>NaN</td>\n",
       "      <td>...</td>\n",
       "      <td>FzaX</td>\n",
       "      <td>EqJsZNf</td>\n",
       "      <td>d0EEeJi</td>\n",
       "      <td>BSis5Dl</td>\n",
       "      <td>LM8l689qOp</td>\n",
       "      <td>NaN</td>\n",
       "      <td>fKCe</td>\n",
       "      <td>02N6s8f</td>\n",
       "      <td>F2FyR07IdsN7I</td>\n",
       "      <td>NaN</td>\n",
       "    </tr>\n",
       "    <tr>\n",
       "      <td>6046</td>\n",
       "      <td>mzKvyx8zhV</td>\n",
       "      <td>2Knk1KF</td>\n",
       "      <td>SEuy</td>\n",
       "      <td>taul</td>\n",
       "      <td>1K8T</td>\n",
       "      <td>0Xwj</td>\n",
       "      <td>ojHCYcI</td>\n",
       "      <td>WeaL</td>\n",
       "      <td>ELe4G18</td>\n",
       "      <td>smXZ</td>\n",
       "      <td>...</td>\n",
       "      <td>FzaX</td>\n",
       "      <td>KtBOw16</td>\n",
       "      <td>oslk</td>\n",
       "      <td>NKvz4Af</td>\n",
       "      <td>LM8l689qOp</td>\n",
       "      <td>kG3k</td>\n",
       "      <td>WqMG</td>\n",
       "      <td>RAYp</td>\n",
       "      <td>55YFVY9</td>\n",
       "      <td>NaN</td>\n",
       "    </tr>\n",
       "    <tr>\n",
       "      <td>23187</td>\n",
       "      <td>DHegUHXZeb</td>\n",
       "      <td>RO12</td>\n",
       "      <td>NaN</td>\n",
       "      <td>taul</td>\n",
       "      <td>1K8T</td>\n",
       "      <td>7ALb</td>\n",
       "      <td>7z8szr3</td>\n",
       "      <td>Cy0RhGn</td>\n",
       "      <td>NaN</td>\n",
       "      <td>NaN</td>\n",
       "      <td>...</td>\n",
       "      <td>AT1N</td>\n",
       "      <td>Nvc6w_1</td>\n",
       "      <td>oslk</td>\n",
       "      <td>EXUR6zD</td>\n",
       "      <td>LM8l689qOp</td>\n",
       "      <td>NaN</td>\n",
       "      <td>453m</td>\n",
       "      <td>RAYp</td>\n",
       "      <td>0pzBWGkV3fbsGZN52DH</td>\n",
       "      <td>NaN</td>\n",
       "    </tr>\n",
       "    <tr>\n",
       "      <td>25421</td>\n",
       "      <td>5_lq9aXt5a</td>\n",
       "      <td>RO12</td>\n",
       "      <td>NaN</td>\n",
       "      <td>taul</td>\n",
       "      <td>1K8T</td>\n",
       "      <td>4fje</td>\n",
       "      <td>cnWs43J</td>\n",
       "      <td>EXpWEXgaYWQf4</td>\n",
       "      <td>NaN</td>\n",
       "      <td>NaN</td>\n",
       "      <td>...</td>\n",
       "      <td>FzaX</td>\n",
       "      <td>FgkjbzC</td>\n",
       "      <td>oslk</td>\n",
       "      <td>5gSwS9i</td>\n",
       "      <td>LM8l689qOp</td>\n",
       "      <td>NaN</td>\n",
       "      <td>uWr3</td>\n",
       "      <td>RAYp</td>\n",
       "      <td>F2FyR07IdsN7I</td>\n",
       "      <td>am7c</td>\n",
       "    </tr>\n",
       "  </tbody>\n",
       "</table>\n",
       "<p>5 rows × 34 columns</p>\n",
       "</div>"
      ],
      "text/plain": [
       "           Var192   Var193 Var194 Var195 Var196 Var197   Var198  \\\n",
       "20038  a4vvyxLkBI     RO12    NaN   taul   1K8T   OTVu  ka_ns41   \n",
       "23937  CEat0G8rTN     RO12    NaN   taul   1K8T   AnrR  ehuz2iK   \n",
       "6046   mzKvyx8zhV  2Knk1KF   SEuy   taul   1K8T   0Xwj  ojHCYcI   \n",
       "23187  DHegUHXZeb     RO12    NaN   taul   1K8T   7ALb  7z8szr3   \n",
       "25421  5_lq9aXt5a     RO12    NaN   taul   1K8T   4fje  cnWs43J   \n",
       "\n",
       "              Var199   Var200 Var201  ... Var219   Var220   Var221   Var222  \\\n",
       "20038     GBSi0Jc1XM      NaN    NaN  ...    NaN  1YVfGrO     oslk  fXVEsaq   \n",
       "23937        _UtlxbJ      NaN    NaN  ...   FzaX  EqJsZNf  d0EEeJi  BSis5Dl   \n",
       "6046            WeaL  ELe4G18   smXZ  ...   FzaX  KtBOw16     oslk  NKvz4Af   \n",
       "23187        Cy0RhGn      NaN    NaN  ...   AT1N  Nvc6w_1     oslk  EXUR6zD   \n",
       "25421  EXpWEXgaYWQf4      NaN    NaN  ...   FzaX  FgkjbzC     oslk  5gSwS9i   \n",
       "\n",
       "           Var223 Var225 Var226   Var227               Var228 Var229  \n",
       "20038         NaN    NaN   xb3V     RAYp        F2FyR07IdsN7I    NaN  \n",
       "23937  LM8l689qOp    NaN   fKCe  02N6s8f        F2FyR07IdsN7I    NaN  \n",
       "6046   LM8l689qOp   kG3k   WqMG     RAYp              55YFVY9    NaN  \n",
       "23187  LM8l689qOp    NaN   453m     RAYp  0pzBWGkV3fbsGZN52DH    NaN  \n",
       "25421  LM8l689qOp    NaN   uWr3     RAYp        F2FyR07IdsN7I   am7c  \n",
       "\n",
       "[5 rows x 34 columns]"
      ]
     },
     "execution_count": 15,
     "metadata": {},
     "output_type": "execute_result"
    }
   ],
   "source": [
    "X_train.loc[:,'Var192':'Var229'].head()"
   ]
  },
  {
   "cell_type": "markdown",
   "metadata": {},
   "source": [
    "After many checks, it turned out that categorical data does not carry a lot of information. \n",
    "Therefore, it was decided to delete them."
   ]
  },
  {
   "cell_type": "code",
   "execution_count": 16,
   "metadata": {},
   "outputs": [],
   "source": [
    "col_need=list(X_train.loc[:,'Var6':'Var189'].columns)\n",
    "col_need.append('target')"
   ]
  },
  {
   "cell_type": "code",
   "execution_count": 17,
   "metadata": {},
   "outputs": [
    {
     "data": {
      "text/html": [
       "<div>\n",
       "<style scoped>\n",
       "    .dataframe tbody tr th:only-of-type {\n",
       "        vertical-align: middle;\n",
       "    }\n",
       "\n",
       "    .dataframe tbody tr th {\n",
       "        vertical-align: top;\n",
       "    }\n",
       "\n",
       "    .dataframe thead th {\n",
       "        text-align: right;\n",
       "    }\n",
       "</style>\n",
       "<table border=\"1\" class=\"dataframe\">\n",
       "  <thead>\n",
       "    <tr style=\"text-align: right;\">\n",
       "      <th></th>\n",
       "      <th>Var6</th>\n",
       "      <th>Var7</th>\n",
       "      <th>Var13</th>\n",
       "      <th>Var21</th>\n",
       "      <th>Var22</th>\n",
       "      <th>Var24</th>\n",
       "      <th>Var25</th>\n",
       "      <th>Var28</th>\n",
       "      <th>Var35</th>\n",
       "      <th>Var38</th>\n",
       "      <th>...</th>\n",
       "      <th>Var143</th>\n",
       "      <th>Var144</th>\n",
       "      <th>Var149</th>\n",
       "      <th>Var153</th>\n",
       "      <th>Var160</th>\n",
       "      <th>Var163</th>\n",
       "      <th>Var173</th>\n",
       "      <th>Var181</th>\n",
       "      <th>Var189</th>\n",
       "      <th>target</th>\n",
       "    </tr>\n",
       "  </thead>\n",
       "  <tbody>\n",
       "    <tr>\n",
       "      <td>20038</td>\n",
       "      <td>119.000000</td>\n",
       "      <td>0.000000</td>\n",
       "      <td>4.000000</td>\n",
       "      <td>48.000000</td>\n",
       "      <td>60.000000</td>\n",
       "      <td>0.000000</td>\n",
       "      <td>0.000000</td>\n",
       "      <td>20.080000</td>\n",
       "      <td>0.000000</td>\n",
       "      <td>2.076024e+06</td>\n",
       "      <td>...</td>\n",
       "      <td>0.000000</td>\n",
       "      <td>9.000000</td>\n",
       "      <td>0.000000</td>\n",
       "      <td>2.983276e+06</td>\n",
       "      <td>6.000000</td>\n",
       "      <td>5.184000e+05</td>\n",
       "      <td>0.000000</td>\n",
       "      <td>0.000000</td>\n",
       "      <td>18.000000</td>\n",
       "      <td>1</td>\n",
       "    </tr>\n",
       "    <tr>\n",
       "      <td>23937</td>\n",
       "      <td>1319.489176</td>\n",
       "      <td>6.798876</td>\n",
       "      <td>1247.075328</td>\n",
       "      <td>233.664949</td>\n",
       "      <td>288.889198</td>\n",
       "      <td>4.549611</td>\n",
       "      <td>96.668148</td>\n",
       "      <td>223.973135</td>\n",
       "      <td>0.707716</td>\n",
       "      <td>2.564732e+06</td>\n",
       "      <td>...</td>\n",
       "      <td>0.055556</td>\n",
       "      <td>11.743042</td>\n",
       "      <td>298175.309799</td>\n",
       "      <td>6.168535e+06</td>\n",
       "      <td>38.541235</td>\n",
       "      <td>4.869868e+05</td>\n",
       "      <td>0.006728</td>\n",
       "      <td>0.613364</td>\n",
       "      <td>270.744403</td>\n",
       "      <td>-1</td>\n",
       "    </tr>\n",
       "    <tr>\n",
       "      <td>6046</td>\n",
       "      <td>1043.000000</td>\n",
       "      <td>7.000000</td>\n",
       "      <td>60.000000</td>\n",
       "      <td>336.000000</td>\n",
       "      <td>420.000000</td>\n",
       "      <td>10.000000</td>\n",
       "      <td>168.000000</td>\n",
       "      <td>200.000000</td>\n",
       "      <td>0.000000</td>\n",
       "      <td>8.866800e+04</td>\n",
       "      <td>...</td>\n",
       "      <td>0.000000</td>\n",
       "      <td>0.000000</td>\n",
       "      <td>547785.000000</td>\n",
       "      <td>4.577840e+06</td>\n",
       "      <td>52.000000</td>\n",
       "      <td>1.005516e+06</td>\n",
       "      <td>0.000000</td>\n",
       "      <td>0.000000</td>\n",
       "      <td>270.744403</td>\n",
       "      <td>-1</td>\n",
       "    </tr>\n",
       "    <tr>\n",
       "      <td>23187</td>\n",
       "      <td>371.000000</td>\n",
       "      <td>0.000000</td>\n",
       "      <td>0.000000</td>\n",
       "      <td>136.000000</td>\n",
       "      <td>170.000000</td>\n",
       "      <td>2.000000</td>\n",
       "      <td>8.000000</td>\n",
       "      <td>286.960000</td>\n",
       "      <td>0.000000</td>\n",
       "      <td>4.245948e+06</td>\n",
       "      <td>...</td>\n",
       "      <td>0.000000</td>\n",
       "      <td>0.000000</td>\n",
       "      <td>604800.000000</td>\n",
       "      <td>1.064096e+07</td>\n",
       "      <td>30.000000</td>\n",
       "      <td>0.000000e+00</td>\n",
       "      <td>0.000000</td>\n",
       "      <td>0.000000</td>\n",
       "      <td>270.744403</td>\n",
       "      <td>-1</td>\n",
       "    </tr>\n",
       "    <tr>\n",
       "      <td>25421</td>\n",
       "      <td>644.000000</td>\n",
       "      <td>7.000000</td>\n",
       "      <td>0.000000</td>\n",
       "      <td>24.000000</td>\n",
       "      <td>30.000000</td>\n",
       "      <td>0.000000</td>\n",
       "      <td>0.000000</td>\n",
       "      <td>186.640000</td>\n",
       "      <td>0.000000</td>\n",
       "      <td>5.165514e+06</td>\n",
       "      <td>...</td>\n",
       "      <td>0.000000</td>\n",
       "      <td>9.000000</td>\n",
       "      <td>0.000000</td>\n",
       "      <td>1.002112e+07</td>\n",
       "      <td>2.000000</td>\n",
       "      <td>0.000000e+00</td>\n",
       "      <td>0.000000</td>\n",
       "      <td>0.000000</td>\n",
       "      <td>270.744403</td>\n",
       "      <td>-1</td>\n",
       "    </tr>\n",
       "  </tbody>\n",
       "</table>\n",
       "<p>5 rows × 43 columns</p>\n",
       "</div>"
      ],
      "text/plain": [
       "              Var6      Var7        Var13       Var21       Var22      Var24  \\\n",
       "20038   119.000000  0.000000     4.000000   48.000000   60.000000   0.000000   \n",
       "23937  1319.489176  6.798876  1247.075328  233.664949  288.889198   4.549611   \n",
       "6046   1043.000000  7.000000    60.000000  336.000000  420.000000  10.000000   \n",
       "23187   371.000000  0.000000     0.000000  136.000000  170.000000   2.000000   \n",
       "25421   644.000000  7.000000     0.000000   24.000000   30.000000   0.000000   \n",
       "\n",
       "            Var25       Var28     Var35         Var38  ...    Var143  \\\n",
       "20038    0.000000   20.080000  0.000000  2.076024e+06  ...  0.000000   \n",
       "23937   96.668148  223.973135  0.707716  2.564732e+06  ...  0.055556   \n",
       "6046   168.000000  200.000000  0.000000  8.866800e+04  ...  0.000000   \n",
       "23187    8.000000  286.960000  0.000000  4.245948e+06  ...  0.000000   \n",
       "25421    0.000000  186.640000  0.000000  5.165514e+06  ...  0.000000   \n",
       "\n",
       "          Var144         Var149        Var153     Var160        Var163  \\\n",
       "20038   9.000000       0.000000  2.983276e+06   6.000000  5.184000e+05   \n",
       "23937  11.743042  298175.309799  6.168535e+06  38.541235  4.869868e+05   \n",
       "6046    0.000000  547785.000000  4.577840e+06  52.000000  1.005516e+06   \n",
       "23187   0.000000  604800.000000  1.064096e+07  30.000000  0.000000e+00   \n",
       "25421   9.000000       0.000000  1.002112e+07   2.000000  0.000000e+00   \n",
       "\n",
       "         Var173    Var181      Var189  target  \n",
       "20038  0.000000  0.000000   18.000000       1  \n",
       "23937  0.006728  0.613364  270.744403      -1  \n",
       "6046   0.000000  0.000000  270.744403      -1  \n",
       "23187  0.000000  0.000000  270.744403      -1  \n",
       "25421  0.000000  0.000000  270.744403      -1  \n",
       "\n",
       "[5 rows x 43 columns]"
      ]
     },
     "execution_count": 17,
     "metadata": {},
     "output_type": "execute_result"
    }
   ],
   "source": [
    "X_train_fin=X_train[col_need]\n",
    "X_train_fin.head()"
   ]
  },
  {
   "cell_type": "code",
   "execution_count": null,
   "metadata": {},
   "outputs": [],
   "source": []
  },
  {
   "cell_type": "code",
   "execution_count": 18,
   "metadata": {},
   "outputs": [
    {
     "data": {
      "text/html": [
       "<div>\n",
       "<style scoped>\n",
       "    .dataframe tbody tr th:only-of-type {\n",
       "        vertical-align: middle;\n",
       "    }\n",
       "\n",
       "    .dataframe tbody tr th {\n",
       "        vertical-align: top;\n",
       "    }\n",
       "\n",
       "    .dataframe thead th {\n",
       "        text-align: right;\n",
       "    }\n",
       "</style>\n",
       "<table border=\"1\" class=\"dataframe\">\n",
       "  <thead>\n",
       "    <tr style=\"text-align: right;\">\n",
       "      <th></th>\n",
       "      <th>Var1</th>\n",
       "      <th>Var2</th>\n",
       "      <th>Var3</th>\n",
       "      <th>Var4</th>\n",
       "      <th>Var5</th>\n",
       "      <th>Var6</th>\n",
       "      <th>Var7</th>\n",
       "      <th>Var9</th>\n",
       "      <th>Var10</th>\n",
       "      <th>Var11</th>\n",
       "      <th>...</th>\n",
       "      <th>Var221</th>\n",
       "      <th>Var222</th>\n",
       "      <th>Var223</th>\n",
       "      <th>Var224</th>\n",
       "      <th>Var225</th>\n",
       "      <th>Var226</th>\n",
       "      <th>Var227</th>\n",
       "      <th>Var228</th>\n",
       "      <th>Var229</th>\n",
       "      <th>target</th>\n",
       "    </tr>\n",
       "  </thead>\n",
       "  <tbody>\n",
       "    <tr>\n",
       "      <td>32823</td>\n",
       "      <td>NaN</td>\n",
       "      <td>NaN</td>\n",
       "      <td>NaN</td>\n",
       "      <td>0.0</td>\n",
       "      <td>NaN</td>\n",
       "      <td>1323.756757</td>\n",
       "      <td>6.731073</td>\n",
       "      <td>83.88</td>\n",
       "      <td>345850.2</td>\n",
       "      <td>8.408163</td>\n",
       "      <td>...</td>\n",
       "      <td>oslk</td>\n",
       "      <td>76DJixu</td>\n",
       "      <td>LM8l689qOp</td>\n",
       "      <td>NaN</td>\n",
       "      <td>NaN</td>\n",
       "      <td>7P5s</td>\n",
       "      <td>RAYp</td>\n",
       "      <td>F2FyR07IdsN7I</td>\n",
       "      <td>NaN</td>\n",
       "      <td>-1</td>\n",
       "    </tr>\n",
       "    <tr>\n",
       "      <td>16298</td>\n",
       "      <td>NaN</td>\n",
       "      <td>NaN</td>\n",
       "      <td>NaN</td>\n",
       "      <td>NaN</td>\n",
       "      <td>NaN</td>\n",
       "      <td>2632.000000</td>\n",
       "      <td>7.000000</td>\n",
       "      <td>83.88</td>\n",
       "      <td>345850.2</td>\n",
       "      <td>8.408163</td>\n",
       "      <td>...</td>\n",
       "      <td>d0EEeJi</td>\n",
       "      <td>x3a7KuW</td>\n",
       "      <td>LM8l689qOp</td>\n",
       "      <td>NaN</td>\n",
       "      <td>ELof</td>\n",
       "      <td>Qcbd</td>\n",
       "      <td>nIGXDli</td>\n",
       "      <td>ib5G6X1eUxUn6</td>\n",
       "      <td>mj86</td>\n",
       "      <td>-1</td>\n",
       "    </tr>\n",
       "    <tr>\n",
       "      <td>28505</td>\n",
       "      <td>NaN</td>\n",
       "      <td>0.0</td>\n",
       "      <td>192.0</td>\n",
       "      <td>NaN</td>\n",
       "      <td>NaN</td>\n",
       "      <td>1323.756757</td>\n",
       "      <td>6.731073</td>\n",
       "      <td>83.88</td>\n",
       "      <td>345850.2</td>\n",
       "      <td>8.000000</td>\n",
       "      <td>...</td>\n",
       "      <td>oslk</td>\n",
       "      <td>xKQ2fT4</td>\n",
       "      <td>NaN</td>\n",
       "      <td>4n2X</td>\n",
       "      <td>NaN</td>\n",
       "      <td>Qu4f</td>\n",
       "      <td>RAYp</td>\n",
       "      <td>F2FyR07IdsN7I</td>\n",
       "      <td>NaN</td>\n",
       "      <td>-1</td>\n",
       "    </tr>\n",
       "    <tr>\n",
       "      <td>6689</td>\n",
       "      <td>NaN</td>\n",
       "      <td>NaN</td>\n",
       "      <td>NaN</td>\n",
       "      <td>NaN</td>\n",
       "      <td>NaN</td>\n",
       "      <td>770.000000</td>\n",
       "      <td>7.000000</td>\n",
       "      <td>83.88</td>\n",
       "      <td>345850.2</td>\n",
       "      <td>8.408163</td>\n",
       "      <td>...</td>\n",
       "      <td>oslk</td>\n",
       "      <td>CnZoIp0</td>\n",
       "      <td>jySVZNlOJy</td>\n",
       "      <td>NaN</td>\n",
       "      <td>NaN</td>\n",
       "      <td>WqMG</td>\n",
       "      <td>RAYp</td>\n",
       "      <td>F2FyR07IdsN7I</td>\n",
       "      <td>am7c</td>\n",
       "      <td>-1</td>\n",
       "    </tr>\n",
       "    <tr>\n",
       "      <td>26893</td>\n",
       "      <td>NaN</td>\n",
       "      <td>NaN</td>\n",
       "      <td>NaN</td>\n",
       "      <td>NaN</td>\n",
       "      <td>NaN</td>\n",
       "      <td>980.000000</td>\n",
       "      <td>0.000000</td>\n",
       "      <td>83.88</td>\n",
       "      <td>345850.2</td>\n",
       "      <td>8.408163</td>\n",
       "      <td>...</td>\n",
       "      <td>Al6ZaUT</td>\n",
       "      <td>JyKROSq</td>\n",
       "      <td>LM8l689qOp</td>\n",
       "      <td>NaN</td>\n",
       "      <td>NaN</td>\n",
       "      <td>FSa2</td>\n",
       "      <td>02N6s8f</td>\n",
       "      <td>xwM2aC7IdeMC0</td>\n",
       "      <td>NaN</td>\n",
       "      <td>-1</td>\n",
       "    </tr>\n",
       "  </tbody>\n",
       "</table>\n",
       "<p>5 rows × 213 columns</p>\n",
       "</div>"
      ],
      "text/plain": [
       "       Var1  Var2   Var3  Var4  Var5         Var6      Var7   Var9     Var10  \\\n",
       "32823   NaN   NaN    NaN   0.0   NaN  1323.756757  6.731073  83.88  345850.2   \n",
       "16298   NaN   NaN    NaN   NaN   NaN  2632.000000  7.000000  83.88  345850.2   \n",
       "28505   NaN   0.0  192.0   NaN   NaN  1323.756757  6.731073  83.88  345850.2   \n",
       "6689    NaN   NaN    NaN   NaN   NaN   770.000000  7.000000  83.88  345850.2   \n",
       "26893   NaN   NaN    NaN   NaN   NaN   980.000000  0.000000  83.88  345850.2   \n",
       "\n",
       "          Var11  ...   Var221   Var222      Var223  Var224  Var225  Var226  \\\n",
       "32823  8.408163  ...     oslk  76DJixu  LM8l689qOp     NaN     NaN    7P5s   \n",
       "16298  8.408163  ...  d0EEeJi  x3a7KuW  LM8l689qOp     NaN    ELof    Qcbd   \n",
       "28505  8.000000  ...     oslk  xKQ2fT4         NaN    4n2X     NaN    Qu4f   \n",
       "6689   8.408163  ...     oslk  CnZoIp0  jySVZNlOJy     NaN     NaN    WqMG   \n",
       "26893  8.408163  ...  Al6ZaUT  JyKROSq  LM8l689qOp     NaN     NaN    FSa2   \n",
       "\n",
       "        Var227         Var228  Var229  target  \n",
       "32823     RAYp  F2FyR07IdsN7I     NaN      -1  \n",
       "16298  nIGXDli  ib5G6X1eUxUn6    mj86      -1  \n",
       "28505     RAYp  F2FyR07IdsN7I     NaN      -1  \n",
       "6689      RAYp  F2FyR07IdsN7I    am7c      -1  \n",
       "26893  02N6s8f  xwM2aC7IdeMC0     NaN      -1  \n",
       "\n",
       "[5 rows x 213 columns]"
      ]
     },
     "execution_count": 18,
     "metadata": {},
     "output_type": "execute_result"
    }
   ],
   "source": [
    "hold_out.loc[:,'Var6':'Var189'] = hold_out.loc[:,'Var6':'Var189'].fillna(hold_out.loc[:,'Var6':'Var189'].mean())\n",
    "hold_out.head()"
   ]
  },
  {
   "cell_type": "code",
   "execution_count": 19,
   "metadata": {},
   "outputs": [
    {
     "data": {
      "text/html": [
       "<div>\n",
       "<style scoped>\n",
       "    .dataframe tbody tr th:only-of-type {\n",
       "        vertical-align: middle;\n",
       "    }\n",
       "\n",
       "    .dataframe tbody tr th {\n",
       "        vertical-align: top;\n",
       "    }\n",
       "\n",
       "    .dataframe thead th {\n",
       "        text-align: right;\n",
       "    }\n",
       "</style>\n",
       "<table border=\"1\" class=\"dataframe\">\n",
       "  <thead>\n",
       "    <tr style=\"text-align: right;\">\n",
       "      <th></th>\n",
       "      <th>Var6</th>\n",
       "      <th>Var7</th>\n",
       "      <th>Var13</th>\n",
       "      <th>Var21</th>\n",
       "      <th>Var22</th>\n",
       "      <th>Var24</th>\n",
       "      <th>Var25</th>\n",
       "      <th>Var28</th>\n",
       "      <th>Var35</th>\n",
       "      <th>Var38</th>\n",
       "      <th>...</th>\n",
       "      <th>Var143</th>\n",
       "      <th>Var144</th>\n",
       "      <th>Var149</th>\n",
       "      <th>Var153</th>\n",
       "      <th>Var160</th>\n",
       "      <th>Var163</th>\n",
       "      <th>Var173</th>\n",
       "      <th>Var181</th>\n",
       "      <th>Var189</th>\n",
       "      <th>target</th>\n",
       "    </tr>\n",
       "  </thead>\n",
       "  <tbody>\n",
       "    <tr>\n",
       "      <td>32823</td>\n",
       "      <td>1323.756757</td>\n",
       "      <td>6.731073</td>\n",
       "      <td>1226.027119</td>\n",
       "      <td>235.780405</td>\n",
       "      <td>292.212612</td>\n",
       "      <td>4.141485</td>\n",
       "      <td>92.25</td>\n",
       "      <td>227.291382</td>\n",
       "      <td>0.731027</td>\n",
       "      <td>2.665185e+06</td>\n",
       "      <td>...</td>\n",
       "      <td>0.083705</td>\n",
       "      <td>11.419764</td>\n",
       "      <td>298124.061718</td>\n",
       "      <td>6.352408e+06</td>\n",
       "      <td>40.702009</td>\n",
       "      <td>476520.502232</td>\n",
       "      <td>0.007254</td>\n",
       "      <td>0.585938</td>\n",
       "      <td>269.243669</td>\n",
       "      <td>-1</td>\n",
       "    </tr>\n",
       "    <tr>\n",
       "      <td>16298</td>\n",
       "      <td>2632.000000</td>\n",
       "      <td>7.000000</td>\n",
       "      <td>760.000000</td>\n",
       "      <td>676.000000</td>\n",
       "      <td>845.000000</td>\n",
       "      <td>10.000000</td>\n",
       "      <td>416.00</td>\n",
       "      <td>166.560000</td>\n",
       "      <td>0.000000</td>\n",
       "      <td>4.722000e+04</td>\n",
       "      <td>...</td>\n",
       "      <td>0.000000</td>\n",
       "      <td>9.000000</td>\n",
       "      <td>90489.000000</td>\n",
       "      <td>1.307384e+06</td>\n",
       "      <td>134.000000</td>\n",
       "      <td>76296.000000</td>\n",
       "      <td>0.000000</td>\n",
       "      <td>0.000000</td>\n",
       "      <td>269.243669</td>\n",
       "      <td>-1</td>\n",
       "    </tr>\n",
       "    <tr>\n",
       "      <td>28505</td>\n",
       "      <td>1323.756757</td>\n",
       "      <td>6.731073</td>\n",
       "      <td>1226.027119</td>\n",
       "      <td>235.780405</td>\n",
       "      <td>292.212612</td>\n",
       "      <td>4.141485</td>\n",
       "      <td>92.25</td>\n",
       "      <td>227.291382</td>\n",
       "      <td>0.731027</td>\n",
       "      <td>2.665185e+06</td>\n",
       "      <td>...</td>\n",
       "      <td>0.083705</td>\n",
       "      <td>11.419764</td>\n",
       "      <td>298124.061718</td>\n",
       "      <td>6.352408e+06</td>\n",
       "      <td>40.702009</td>\n",
       "      <td>476520.502232</td>\n",
       "      <td>0.007254</td>\n",
       "      <td>0.585938</td>\n",
       "      <td>269.243669</td>\n",
       "      <td>-1</td>\n",
       "    </tr>\n",
       "    <tr>\n",
       "      <td>6689</td>\n",
       "      <td>770.000000</td>\n",
       "      <td>7.000000</td>\n",
       "      <td>352.000000</td>\n",
       "      <td>136.000000</td>\n",
       "      <td>170.000000</td>\n",
       "      <td>0.000000</td>\n",
       "      <td>32.00</td>\n",
       "      <td>186.640000</td>\n",
       "      <td>0.000000</td>\n",
       "      <td>4.297212e+06</td>\n",
       "      <td>...</td>\n",
       "      <td>0.000000</td>\n",
       "      <td>9.000000</td>\n",
       "      <td>0.000000</td>\n",
       "      <td>1.047808e+07</td>\n",
       "      <td>24.000000</td>\n",
       "      <td>0.000000</td>\n",
       "      <td>0.000000</td>\n",
       "      <td>7.000000</td>\n",
       "      <td>269.243669</td>\n",
       "      <td>-1</td>\n",
       "    </tr>\n",
       "    <tr>\n",
       "      <td>26893</td>\n",
       "      <td>980.000000</td>\n",
       "      <td>0.000000</td>\n",
       "      <td>0.000000</td>\n",
       "      <td>384.000000</td>\n",
       "      <td>480.000000</td>\n",
       "      <td>10.000000</td>\n",
       "      <td>288.00</td>\n",
       "      <td>308.400000</td>\n",
       "      <td>0.000000</td>\n",
       "      <td>5.437128e+06</td>\n",
       "      <td>...</td>\n",
       "      <td>0.000000</td>\n",
       "      <td>0.000000</td>\n",
       "      <td>426650.000000</td>\n",
       "      <td>1.056352e+07</td>\n",
       "      <td>40.000000</td>\n",
       "      <td>207864.000000</td>\n",
       "      <td>0.000000</td>\n",
       "      <td>0.000000</td>\n",
       "      <td>269.243669</td>\n",
       "      <td>-1</td>\n",
       "    </tr>\n",
       "  </tbody>\n",
       "</table>\n",
       "<p>5 rows × 43 columns</p>\n",
       "</div>"
      ],
      "text/plain": [
       "              Var6      Var7        Var13       Var21       Var22      Var24  \\\n",
       "32823  1323.756757  6.731073  1226.027119  235.780405  292.212612   4.141485   \n",
       "16298  2632.000000  7.000000   760.000000  676.000000  845.000000  10.000000   \n",
       "28505  1323.756757  6.731073  1226.027119  235.780405  292.212612   4.141485   \n",
       "6689    770.000000  7.000000   352.000000  136.000000  170.000000   0.000000   \n",
       "26893   980.000000  0.000000     0.000000  384.000000  480.000000  10.000000   \n",
       "\n",
       "        Var25       Var28     Var35         Var38  ...    Var143     Var144  \\\n",
       "32823   92.25  227.291382  0.731027  2.665185e+06  ...  0.083705  11.419764   \n",
       "16298  416.00  166.560000  0.000000  4.722000e+04  ...  0.000000   9.000000   \n",
       "28505   92.25  227.291382  0.731027  2.665185e+06  ...  0.083705  11.419764   \n",
       "6689    32.00  186.640000  0.000000  4.297212e+06  ...  0.000000   9.000000   \n",
       "26893  288.00  308.400000  0.000000  5.437128e+06  ...  0.000000   0.000000   \n",
       "\n",
       "              Var149        Var153      Var160         Var163    Var173  \\\n",
       "32823  298124.061718  6.352408e+06   40.702009  476520.502232  0.007254   \n",
       "16298   90489.000000  1.307384e+06  134.000000   76296.000000  0.000000   \n",
       "28505  298124.061718  6.352408e+06   40.702009  476520.502232  0.007254   \n",
       "6689        0.000000  1.047808e+07   24.000000       0.000000  0.000000   \n",
       "26893  426650.000000  1.056352e+07   40.000000  207864.000000  0.000000   \n",
       "\n",
       "         Var181      Var189  target  \n",
       "32823  0.585938  269.243669      -1  \n",
       "16298  0.000000  269.243669      -1  \n",
       "28505  0.585938  269.243669      -1  \n",
       "6689   7.000000  269.243669      -1  \n",
       "26893  0.000000  269.243669      -1  \n",
       "\n",
       "[5 rows x 43 columns]"
      ]
     },
     "execution_count": 19,
     "metadata": {},
     "output_type": "execute_result"
    }
   ],
   "source": [
    "hold_out_fin=hold_out[col_need]\n",
    "hold_out_fin.head()"
   ]
  },
  {
   "cell_type": "markdown",
   "metadata": {},
   "source": [
    "### Modelling"
   ]
  },
  {
   "cell_type": "code",
   "execution_count": 20,
   "metadata": {},
   "outputs": [],
   "source": [
    "X_train_1, X_test_1, y_train_1, y_test_1 = train_test_split(X_train_fin.drop(['target'], axis=1), \n",
    "                                                    X_train_fin.target, test_size=0.2, random_state=42)"
   ]
  },
  {
   "cell_type": "markdown",
   "metadata": {},
   "source": [
    "__Logistic Regression__"
   ]
  },
  {
   "cell_type": "code",
   "execution_count": 21,
   "metadata": {},
   "outputs": [
    {
     "name": "stdout",
     "output_type": "stream",
     "text": [
      "0.573726230279956\n"
     ]
    }
   ],
   "source": [
    "log_reg = LogisticRegression()\n",
    "print(cross_val_score(log_reg,X_train_fin.drop(['target'], axis=1), \n",
    "                                                    X_train_fin.target, cv=3,scoring='roc_auc').mean())"
   ]
  },
  {
   "cell_type": "code",
   "execution_count": 36,
   "metadata": {},
   "outputs": [
    {
     "name": "stdout",
     "output_type": "stream",
     "text": [
      "test: 0.609031178097326\n",
      "hold-out: 0.6147919100061183\n"
     ]
    }
   ],
   "source": [
    "log_reg = LogisticRegression()\n",
    "log_reg.fit(X_train_1, y_train_1)\n",
    "print(f'test: {roc_auc_score(y_test_1, log_reg.predict_proba(X_test_1)[:, 1])}')\n",
    "print(f'hold-out:',\n",
    "roc_auc_score(hold_out_fin['target'], log_reg.predict_proba(hold_out_fin.drop(['target'], axis=1))[:, 1]))"
   ]
  },
  {
   "cell_type": "code",
   "execution_count": 37,
   "metadata": {},
   "outputs": [
    {
     "name": "stdout",
     "output_type": "stream",
     "text": [
      "test accuracy: 0.9275\n",
      "hold-out accuracy: 0.922\n"
     ]
    }
   ],
   "source": [
    "# accuracy score\n",
    "from sklearn.metrics import accuracy_score\n",
    "print(f'test accuracy: {accuracy_score(y_test_1, log_reg.predict(X_test_1))}')\n",
    "print(f'hold-out accuracy:',\n",
    "accuracy_score(hold_out_fin['target'], log_reg.predict(hold_out_fin.drop(['target'], axis=1))))"
   ]
  },
  {
   "cell_type": "markdown",
   "metadata": {},
   "source": [
    "__Random forest__"
   ]
  },
  {
   "cell_type": "code",
   "execution_count": 38,
   "metadata": {},
   "outputs": [
    {
     "name": "stdout",
     "output_type": "stream",
     "text": [
      "0.6885323329539043\n"
     ]
    }
   ],
   "source": [
    "clf = RandomForestClassifier(max_depth=5, random_state=0)\n",
    "print(cross_val_score(clf,X_train_fin.drop(['target'], axis=1), \n",
    "                                                    X_train_fin.target, cv=3,scoring='roc_auc').mean())"
   ]
  },
  {
   "cell_type": "code",
   "execution_count": 39,
   "metadata": {},
   "outputs": [
    {
     "name": "stdout",
     "output_type": "stream",
     "text": [
      "test: 0.6812363417421783\n",
      "hold-out: 0.6807442884754435\n"
     ]
    }
   ],
   "source": [
    "clf = RandomForestClassifier(max_depth=5, random_state=0)\n",
    "clf.fit(X_train_1, y_train_1)\n",
    "print(f'test: {roc_auc_score(y_test_1, clf.predict_proba(X_test_1)[:, 1])}')\n",
    "print(f'hold-out:',\n",
    "roc_auc_score(hold_out_fin['target'], clf.predict_proba(hold_out_fin.drop(['target'], axis=1))[:, 1]))"
   ]
  },
  {
   "cell_type": "code",
   "execution_count": 40,
   "metadata": {},
   "outputs": [
    {
     "name": "stdout",
     "output_type": "stream",
     "text": [
      "test accuracy: 0.9280555555555555\n",
      "hold-out accuracy: 0.922\n"
     ]
    }
   ],
   "source": [
    " #accuracy score\n",
    "print(f'test accuracy: {accuracy_score(y_test_1, clf.predict(X_test_1))}')\n",
    "print(f'hold-out accuracy:',\n",
    "accuracy_score(hold_out_fin['target'], clf.predict(hold_out_fin.drop(['target'], axis=1))))"
   ]
  },
  {
   "cell_type": "markdown",
   "metadata": {},
   "source": [
    "__Gradient boosting__"
   ]
  },
  {
   "cell_type": "code",
   "execution_count": 41,
   "metadata": {},
   "outputs": [
    {
     "name": "stdout",
     "output_type": "stream",
     "text": [
      "0.7192441496572166\n"
     ]
    }
   ],
   "source": [
    "xg_reg_fin = xgb.XGBClassifier()\n",
    "print(cross_val_score(xg_reg_fin,X_train_fin.drop(['target'], axis=1), \n",
    "                                                    X_train_fin.target, cv=3,scoring='roc_auc').mean())"
   ]
  },
  {
   "cell_type": "code",
   "execution_count": 42,
   "metadata": {},
   "outputs": [
    {
     "name": "stdout",
     "output_type": "stream",
     "text": [
      "test: 0.7182677717697172\n",
      "hold-out: 0.7212481401913344\n"
     ]
    }
   ],
   "source": [
    "xg_reg = xgb.XGBClassifier()\n",
    "xg_reg.fit(X_train_1, y_train_1)\n",
    "print(f'test: {roc_auc_score(y_test_1, xg_reg.predict_proba(X_test_1)[:, 1])}')\n",
    "print(f'hold-out:',\n",
    "roc_auc_score(hold_out_fin['target'], xg_reg.predict_proba(hold_out_fin.drop(['target'], axis=1))[:, 1]))"
   ]
  },
  {
   "cell_type": "code",
   "execution_count": 43,
   "metadata": {},
   "outputs": [
    {
     "name": "stdout",
     "output_type": "stream",
     "text": [
      "test accuracy: 0.9283333333333333\n",
      "hold-out accuracy: 0.92275\n"
     ]
    }
   ],
   "source": [
    " #accuracy score\n",
    "print(f'test accuracy: {accuracy_score(y_test_1, xg_reg.predict(X_test_1))}')\n",
    "print(f'hold-out accuracy:',\n",
    "accuracy_score(hold_out_fin['target'], xg_reg.predict(hold_out_fin.drop(['target'], axis=1))))"
   ]
  },
  {
   "cell_type": "markdown",
   "metadata": {},
   "source": [
    "__Tuning parameters__"
   ]
  },
  {
   "cell_type": "code",
   "execution_count": 28,
   "metadata": {},
   "outputs": [
    {
     "data": {
      "text/plain": [
       "{'base_score': 0.5,\n",
       " 'booster': 'gbtree',\n",
       " 'colsample_bylevel': 1,\n",
       " 'colsample_bynode': 1,\n",
       " 'colsample_bytree': 1,\n",
       " 'gamma': 0,\n",
       " 'learning_rate': 0.1,\n",
       " 'max_delta_step': 0,\n",
       " 'max_depth': 3,\n",
       " 'min_child_weight': 1,\n",
       " 'missing': None,\n",
       " 'n_estimators': 100,\n",
       " 'n_jobs': 1,\n",
       " 'nthread': None,\n",
       " 'objective': 'binary:logistic',\n",
       " 'random_state': 0,\n",
       " 'reg_alpha': 0,\n",
       " 'reg_lambda': 1,\n",
       " 'scale_pos_weight': 1,\n",
       " 'seed': None,\n",
       " 'silent': None,\n",
       " 'subsample': 1,\n",
       " 'verbosity': 1}"
      ]
     },
     "execution_count": 28,
     "metadata": {},
     "output_type": "execute_result"
    }
   ],
   "source": [
    "xg_reg.get_params()"
   ]
  },
  {
   "cell_type": "code",
   "execution_count": 29,
   "metadata": {},
   "outputs": [],
   "source": [
    "params = {\n",
    "        'min_child_weight': [1, 5, 10],\n",
    "        'gamma': [0,0.5, 1, 1.5, 2, 5],\n",
    "        'subsample': [0.6, 0.8, 1.0],\n",
    "        'colsample_bytree': [0.6, 0.8, 1.0],\n",
    "        'max_depth': [3, 4, 5,6,7]\n",
    "        } "
   ]
  },
  {
   "cell_type": "code",
   "execution_count": 30,
   "metadata": {},
   "outputs": [
    {
     "name": "stdout",
     "output_type": "stream",
     "text": [
      "{'subsample': 0.8, 'min_child_weight': 10, 'max_depth': 4, 'gamma': 0, 'colsample_bytree': 0.8}\n"
     ]
    }
   ],
   "source": [
    "model = xgb.XGBClassifier()\n",
    "clf=RandomizedSearchCV(model,params,scoring='roc_auc')\n",
    "clf.fit(X=X_train_fin.drop(['target'], axis=1), y=X_train_fin.target)\n",
    "print(clf.best_params_)"
   ]
  },
  {
   "cell_type": "markdown",
   "metadata": {},
   "source": [
    "__Final model__"
   ]
  },
  {
   "cell_type": "code",
   "execution_count": 44,
   "metadata": {},
   "outputs": [
    {
     "name": "stdout",
     "output_type": "stream",
     "text": [
      "test: 0.7197920651228045\n",
      "hold-out: 0.7230166965626564\n"
     ]
    }
   ],
   "source": [
    "xg_reg_mod = xgb.XGBClassifier(subsample= 0.8, min_child_weight=10, max_depth= 4,\n",
    "                           gamma=0, colsample_bytree= 0.8)\n",
    "xg_reg_mod.fit(X_train_1, y_train_1)\n",
    "print(f'test: {roc_auc_score(y_test_1, xg_reg_mod.predict_proba(X_test_1)[:, 1])}')\n",
    "print(f'hold-out:',\n",
    "roc_auc_score(hold_out_fin['target'], xg_reg_mod.predict_proba(hold_out_fin.drop(['target'], axis=1))[:, 1]))"
   ]
  },
  {
   "cell_type": "code",
   "execution_count": 45,
   "metadata": {},
   "outputs": [
    {
     "name": "stdout",
     "output_type": "stream",
     "text": [
      "test accuracy: 0.9281944444444444\n",
      "hold-out accuracy: 0.92225\n"
     ]
    }
   ],
   "source": [
    " #accuracy score\n",
    "print(f'test accuracy: {accuracy_score(y_test_1, xg_reg_mod.predict(X_test_1))}')\n",
    "print(f'hold-out accuracy:',\n",
    "accuracy_score(hold_out_fin['target'], xg_reg_mod.predict(hold_out_fin.drop(['target'], axis=1))))"
   ]
  },
  {
   "cell_type": "code",
   "execution_count": null,
   "metadata": {},
   "outputs": [],
   "source": []
  },
  {
   "cell_type": "code",
   "execution_count": null,
   "metadata": {},
   "outputs": [],
   "source": []
  }
 ],
 "metadata": {
  "kernelspec": {
   "display_name": "Python 3",
   "language": "python",
   "name": "python3"
  },
  "language_info": {
   "codemirror_mode": {
    "name": "ipython",
    "version": 3
   },
   "file_extension": ".py",
   "mimetype": "text/x-python",
   "name": "python",
   "nbconvert_exporter": "python",
   "pygments_lexer": "ipython3",
   "version": "3.7.4"
  }
 },
 "nbformat": 4,
 "nbformat_minor": 2
}
