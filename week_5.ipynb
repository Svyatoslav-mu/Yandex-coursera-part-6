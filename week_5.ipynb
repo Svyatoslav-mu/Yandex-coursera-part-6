{
 "cells": [
  {
   "cell_type": "markdown",
   "metadata": {},
   "source": [
    "# Peer-graded Assignment: Эксперименты с моделью\n",
    "\n",
    "На прошлой неделе вы поучаствовали в соревновании на kaggle и, наверняка, большинство успешно справилось с прохождением baseline, а значит пора двигаться дальше - заняться оптимизацией модели, провести серию экспериментов и построить сильное финальное решения.\n",
    "\n",
    "В этом задании вам нужно провести ряд эскпериментов, оценить качество полученных в процессе экспериментирования моделей и выбрать лучшее решение. "
   ]
  },
  {
   "cell_type": "markdown",
   "metadata": {},
   "source": [
    "Задание будет оцениваться на основании загруженного jupyther notebook и развернутых ответов на поставленные вопросы."
   ]
  },
  {
   "cell_type": "code",
   "execution_count": 1,
   "metadata": {},
   "outputs": [
    {
     "name": "stdout",
     "output_type": "stream",
     "text": [
      "Populating the interactive namespace from numpy and matplotlib\n"
     ]
    }
   ],
   "source": [
    "import pandas as pd\n",
    "import seaborn as sns\n",
    "import numpy as np\n",
    "from sklearn.preprocessing import StandardScaler\n",
    "from sklearn.linear_model import LogisticRegression\n",
    "from sklearn.model_selection import cross_val_score\n",
    "import lightgbm as lgb\n",
    "from catboost import CatBoostClassifier\n",
    "from sklearn.ensemble import RandomForestClassifier\n",
    "from sklearn.metrics import roc_auc_score\n",
    "from hyperopt import hp, tpe\n",
    "from hyperopt.fmin import fmin\n",
    "import xgboost as xgb\n",
    "from sklearn.model_selection import RandomizedSearchCV\n",
    "from sklearn.model_selection import train_test_split\n",
    "from sklearn import metrics\n",
    "import warnings\n",
    "from sklearn.model_selection import learning_curve,StratifiedKFold\n",
    "warnings.filterwarnings(\"ignore\")\n",
    "%pylab inline"
   ]
  },
  {
   "cell_type": "code",
   "execution_count": 2,
   "metadata": {},
   "outputs": [
    {
     "data": {
      "text/html": [
       "<div>\n",
       "<style scoped>\n",
       "    .dataframe tbody tr th:only-of-type {\n",
       "        vertical-align: middle;\n",
       "    }\n",
       "\n",
       "    .dataframe tbody tr th {\n",
       "        vertical-align: top;\n",
       "    }\n",
       "\n",
       "    .dataframe thead th {\n",
       "        text-align: right;\n",
       "    }\n",
       "</style>\n",
       "<table border=\"1\" class=\"dataframe\">\n",
       "  <thead>\n",
       "    <tr style=\"text-align: right;\">\n",
       "      <th></th>\n",
       "      <th>Var1</th>\n",
       "      <th>Var2</th>\n",
       "      <th>Var3</th>\n",
       "      <th>Var4</th>\n",
       "      <th>Var5</th>\n",
       "      <th>Var6</th>\n",
       "      <th>Var7</th>\n",
       "      <th>Var8</th>\n",
       "      <th>Var9</th>\n",
       "      <th>Var10</th>\n",
       "      <th>...</th>\n",
       "      <th>Var221</th>\n",
       "      <th>Var222</th>\n",
       "      <th>Var223</th>\n",
       "      <th>Var224</th>\n",
       "      <th>Var225</th>\n",
       "      <th>Var226</th>\n",
       "      <th>Var227</th>\n",
       "      <th>Var228</th>\n",
       "      <th>Var229</th>\n",
       "      <th>Var230</th>\n",
       "    </tr>\n",
       "  </thead>\n",
       "  <tbody>\n",
       "    <tr>\n",
       "      <td>0</td>\n",
       "      <td>NaN</td>\n",
       "      <td>NaN</td>\n",
       "      <td>NaN</td>\n",
       "      <td>NaN</td>\n",
       "      <td>NaN</td>\n",
       "      <td>3052.0</td>\n",
       "      <td>NaN</td>\n",
       "      <td>NaN</td>\n",
       "      <td>NaN</td>\n",
       "      <td>NaN</td>\n",
       "      <td>...</td>\n",
       "      <td>Al6ZaUT</td>\n",
       "      <td>vr93T2a</td>\n",
       "      <td>LM8l689qOp</td>\n",
       "      <td>NaN</td>\n",
       "      <td>NaN</td>\n",
       "      <td>fKCe</td>\n",
       "      <td>02N6s8f</td>\n",
       "      <td>xwM2aC7IdeMC0</td>\n",
       "      <td>NaN</td>\n",
       "      <td>NaN</td>\n",
       "    </tr>\n",
       "    <tr>\n",
       "      <td>1</td>\n",
       "      <td>NaN</td>\n",
       "      <td>NaN</td>\n",
       "      <td>NaN</td>\n",
       "      <td>NaN</td>\n",
       "      <td>NaN</td>\n",
       "      <td>1813.0</td>\n",
       "      <td>7.0</td>\n",
       "      <td>NaN</td>\n",
       "      <td>NaN</td>\n",
       "      <td>NaN</td>\n",
       "      <td>...</td>\n",
       "      <td>oslk</td>\n",
       "      <td>6hQ9lNX</td>\n",
       "      <td>LM8l689qOp</td>\n",
       "      <td>NaN</td>\n",
       "      <td>ELof</td>\n",
       "      <td>xb3V</td>\n",
       "      <td>RAYp</td>\n",
       "      <td>55YFVY9</td>\n",
       "      <td>mj86</td>\n",
       "      <td>NaN</td>\n",
       "    </tr>\n",
       "    <tr>\n",
       "      <td>2</td>\n",
       "      <td>NaN</td>\n",
       "      <td>NaN</td>\n",
       "      <td>NaN</td>\n",
       "      <td>NaN</td>\n",
       "      <td>NaN</td>\n",
       "      <td>1953.0</td>\n",
       "      <td>7.0</td>\n",
       "      <td>NaN</td>\n",
       "      <td>NaN</td>\n",
       "      <td>NaN</td>\n",
       "      <td>...</td>\n",
       "      <td>zCkv</td>\n",
       "      <td>catzS2D</td>\n",
       "      <td>LM8l689qOp</td>\n",
       "      <td>NaN</td>\n",
       "      <td>NaN</td>\n",
       "      <td>FSa2</td>\n",
       "      <td>ZI9m</td>\n",
       "      <td>ib5G6X1eUxUn6</td>\n",
       "      <td>mj86</td>\n",
       "      <td>NaN</td>\n",
       "    </tr>\n",
       "    <tr>\n",
       "      <td>3</td>\n",
       "      <td>NaN</td>\n",
       "      <td>NaN</td>\n",
       "      <td>NaN</td>\n",
       "      <td>NaN</td>\n",
       "      <td>NaN</td>\n",
       "      <td>1533.0</td>\n",
       "      <td>7.0</td>\n",
       "      <td>NaN</td>\n",
       "      <td>NaN</td>\n",
       "      <td>NaN</td>\n",
       "      <td>...</td>\n",
       "      <td>oslk</td>\n",
       "      <td>e4lqvY0</td>\n",
       "      <td>LM8l689qOp</td>\n",
       "      <td>NaN</td>\n",
       "      <td>NaN</td>\n",
       "      <td>xb3V</td>\n",
       "      <td>RAYp</td>\n",
       "      <td>F2FyR07IdsN7I</td>\n",
       "      <td>NaN</td>\n",
       "      <td>NaN</td>\n",
       "    </tr>\n",
       "    <tr>\n",
       "      <td>4</td>\n",
       "      <td>NaN</td>\n",
       "      <td>NaN</td>\n",
       "      <td>NaN</td>\n",
       "      <td>NaN</td>\n",
       "      <td>NaN</td>\n",
       "      <td>686.0</td>\n",
       "      <td>7.0</td>\n",
       "      <td>NaN</td>\n",
       "      <td>NaN</td>\n",
       "      <td>NaN</td>\n",
       "      <td>...</td>\n",
       "      <td>oslk</td>\n",
       "      <td>MAz3HNj</td>\n",
       "      <td>LM8l689qOp</td>\n",
       "      <td>NaN</td>\n",
       "      <td>NaN</td>\n",
       "      <td>WqMG</td>\n",
       "      <td>RAYp</td>\n",
       "      <td>F2FyR07IdsN7I</td>\n",
       "      <td>NaN</td>\n",
       "      <td>NaN</td>\n",
       "    </tr>\n",
       "  </tbody>\n",
       "</table>\n",
       "<p>5 rows × 230 columns</p>\n",
       "</div>"
      ],
      "text/plain": [
       "   Var1  Var2  Var3  Var4  Var5    Var6  Var7  Var8  Var9  Var10  ...  \\\n",
       "0   NaN   NaN   NaN   NaN   NaN  3052.0   NaN   NaN   NaN    NaN  ...   \n",
       "1   NaN   NaN   NaN   NaN   NaN  1813.0   7.0   NaN   NaN    NaN  ...   \n",
       "2   NaN   NaN   NaN   NaN   NaN  1953.0   7.0   NaN   NaN    NaN  ...   \n",
       "3   NaN   NaN   NaN   NaN   NaN  1533.0   7.0   NaN   NaN    NaN  ...   \n",
       "4   NaN   NaN   NaN   NaN   NaN   686.0   7.0   NaN   NaN    NaN  ...   \n",
       "\n",
       "    Var221   Var222      Var223  Var224  Var225  Var226   Var227  \\\n",
       "0  Al6ZaUT  vr93T2a  LM8l689qOp     NaN     NaN    fKCe  02N6s8f   \n",
       "1     oslk  6hQ9lNX  LM8l689qOp     NaN    ELof    xb3V     RAYp   \n",
       "2     zCkv  catzS2D  LM8l689qOp     NaN     NaN    FSa2     ZI9m   \n",
       "3     oslk  e4lqvY0  LM8l689qOp     NaN     NaN    xb3V     RAYp   \n",
       "4     oslk  MAz3HNj  LM8l689qOp     NaN     NaN    WqMG     RAYp   \n",
       "\n",
       "          Var228  Var229  Var230  \n",
       "0  xwM2aC7IdeMC0     NaN     NaN  \n",
       "1        55YFVY9    mj86     NaN  \n",
       "2  ib5G6X1eUxUn6    mj86     NaN  \n",
       "3  F2FyR07IdsN7I     NaN     NaN  \n",
       "4  F2FyR07IdsN7I     NaN     NaN  \n",
       "\n",
       "[5 rows x 230 columns]"
      ]
     },
     "execution_count": 2,
     "metadata": {},
     "output_type": "execute_result"
    }
   ],
   "source": [
    "df_data=pd.read_csv(\"orange_small_churn_data.csv\")\n",
    "name=['target']\n",
    "target=pd.read_csv(\"orange_small_churn_labels.csv\",names=name)\n",
    "df_data.head()"
   ]
  },
  {
   "cell_type": "markdown",
   "metadata": {},
   "source": [
    "##### Drop the columns with 100% of missings"
   ]
  },
  {
   "cell_type": "code",
   "execution_count": 3,
   "metadata": {},
   "outputs": [
    {
     "data": {
      "text/plain": [
       "(40000, 212)"
      ]
     },
     "execution_count": 3,
     "metadata": {},
     "output_type": "execute_result"
    }
   ],
   "source": [
    "to_drop=[]\n",
    "for i in df_data.columns:\n",
    "    if df_data.isna().sum()[i]/df_data.shape[0]==1:\n",
    "#         print(i,df_data.isna().sum()[i]/df_data.shape[0])\n",
    "        to_drop.append(i)\n",
    "df_data.drop(columns=to_drop,inplace=True)\n",
    "df_data.shape"
   ]
  },
  {
   "cell_type": "markdown",
   "metadata": {},
   "source": [
    "__Creating the hold-out dataset__\n"
   ]
  },
  {
   "cell_type": "code",
   "execution_count": 4,
   "metadata": {},
   "outputs": [],
   "source": [
    "X_train, hold_out, y_train, y_test = train_test_split(df_data, target['target'], test_size=0.2, random_state=42)"
   ]
  },
  {
   "cell_type": "markdown",
   "metadata": {},
   "source": [
    "__Based on expert judgment the treshold=75% was selected__"
   ]
  },
  {
   "cell_type": "code",
   "execution_count": 5,
   "metadata": {},
   "outputs": [
    {
     "data": {
      "text/plain": [
       "(32000, 76)"
      ]
     },
     "execution_count": 5,
     "metadata": {},
     "output_type": "execute_result"
    }
   ],
   "source": [
    "to_drop_75=[]\n",
    "for i in X_train.columns:\n",
    "    if X_train.isna().sum()[i]/X_train.shape[0]>0.75:\n",
    "        to_drop_75.append(i)\n",
    "X_train.drop(columns=to_drop_75,inplace=True)\n",
    "X_train.shape"
   ]
  },
  {
   "cell_type": "code",
   "execution_count": 6,
   "metadata": {},
   "outputs": [],
   "source": [
    "# for future testing we create the copy of train and test samples\n",
    "X_train_no_prep=X_train.copy()\n",
    "hold_out_no_prep=hold_out.copy()"
   ]
  },
  {
   "cell_type": "markdown",
   "metadata": {},
   "source": [
    "__Preprocessing__"
   ]
  },
  {
   "cell_type": "code",
   "execution_count": 7,
   "metadata": {},
   "outputs": [],
   "source": [
    "# Numeric columns\n",
    "X_train.loc[:,'Var6':'Var189'] = X_train.loc[:,'Var6':'Var189'].fillna(X_train.loc[:,'Var6':'Var189'].mean())"
   ]
  },
  {
   "cell_type": "code",
   "execution_count": 8,
   "metadata": {},
   "outputs": [],
   "source": [
    "# Let's find the categorical features for which the number of unique values in the training and test samples is the same\n",
    "train={}\n",
    "for i in X_train.loc[:,'Var192':'Var229'].columns:\n",
    "    train[i]=len(X_train[i].unique())\n",
    "test={}\n",
    "for i in hold_out.loc[:,'Var192':'Var229'].columns:\n",
    "    test[i]=len(hold_out[i].unique())"
   ]
  },
  {
   "cell_type": "markdown",
   "metadata": {},
   "source": [
    "After checking the following columns were found:  \n",
    "__'Var194','Var201','Var204','Var205','Var208','Var210','Var211','Var218','Var221','Var223','Var225','Var226',\n",
    "          'Var227','Var229'__"
   ]
  },
  {
   "cell_type": "code",
   "execution_count": 9,
   "metadata": {},
   "outputs": [],
   "source": [
    "# preprocessing categorical data\n",
    "categ_col=['Var194','Var201','Var204','Var205','Var208','Var210','Var211','Var218','Var221','Var223','Var225','Var226',\n",
    "          'Var227','Var229']\n",
    "col_to_drop=[]\n",
    "for i in train.keys():\n",
    "    if i not in categ_col:\n",
    "        col_to_drop.append(i)\n",
    "X_train.drop(columns=col_to_drop,inplace=True)\n",
    "\n",
    "# creating the final training sample\n",
    "X_train[categ_col]=X_train[categ_col].fillna(-100)\n",
    "dummy=pd.get_dummies(X_train[categ_col])\n",
    "X_train_no_categ=X_train.drop(columns=categ_col)\n",
    "X_train_fin=pd.concat([X_train_no_categ,dummy],axis=1)"
   ]
  },
  {
   "cell_type": "code",
   "execution_count": 10,
   "metadata": {},
   "outputs": [],
   "source": [
    "# Creating the final hold-out-sample\n",
    "hold_out.loc[:,'Var6':'Var189'] = hold_out.loc[:,'Var6':'Var189'].fillna(hold_out.loc[:,'Var6':'Var189'].mean())\n",
    "categ_col=['Var194','Var201','Var204','Var205','Var208','Var210','Var211','Var218','Var221','Var223','Var225','Var226',\n",
    "          'Var227','Var229']\n",
    "col_to_drop=[]\n",
    "for i in test.keys():\n",
    "    if i not in categ_col:\n",
    "        col_to_drop.append(i)\n",
    "hold_out.drop(columns=col_to_drop,inplace=True)\n",
    "\n",
    "hold_out[categ_col]=hold_out[categ_col].fillna(-100)\n",
    "dummy=pd.get_dummies(hold_out[categ_col])\n",
    "hold_out_no_cat=hold_out.drop(columns=categ_col)\n",
    "hold_out_fin=pd.concat([hold_out_no_cat,dummy],axis=1)"
   ]
  },
  {
   "cell_type": "markdown",
   "metadata": {},
   "source": [
    "## Инструкции"
   ]
  },
  {
   "cell_type": "markdown",
   "metadata": {},
   "source": [
    "1\\. Начнем с простого. Давайте оценим как много объектов действительно нужно для построения качественной модели. Для обучения доступна достаточно большая выборка и может так оказаться, что начиная с некоторого момента рост размера обучающей выборки перестает влиять на качество модели. Постройте кривые обучения, обучая модель на выборках разного размера начиная с небольшого количество объектов в обучающей выборке и постепенно наращивая её размер с некоторым шагом. Обратите внимание на `sklearn.model_selection.learning_curve`"
   ]
  },
  {
   "cell_type": "code",
   "execution_count": 27,
   "metadata": {},
   "outputs": [
    {
     "data": {
      "text/plain": [
       "<matplotlib.legend.Legend at 0x22053a64bc8>"
      ]
     },
     "execution_count": 27,
     "metadata": {},
     "output_type": "execute_result"
    },
    {
     "data": {
      "image/png": "[encoded data removed]",
      "text/plain": [
       "<Figure size 792x288 with 1 Axes>"
      ]
     },
     "metadata": {
      "needs_background": "light"
     },
     "output_type": "display_data"
    }
   ],
   "source": [
    "clf = xgb.XGBClassifier(random_state=9)\n",
    "train_sizes, train_scores, test_scores = learning_curve(clf, X_train_fin, y_train, train_sizes=np.linspace(0.1,1.0,10),\n",
    "                                                        cv=StratifiedKFold(n_splits=3, shuffle=True),\n",
    "                                                        scoring='roc_auc', n_jobs=-1)\n",
    "plt.figure(figsize=(11, 4))\n",
    "plt.grid(True)\n",
    "plt.plot(train_sizes, train_scores.mean(axis = 1), 'b',  label='train')\n",
    "plt.plot(train_sizes, test_scores.mean(axis = 1), 'r-',  label='hold-out')\n",
    "plt.ylim((0.65, 1.0))\n",
    "plt.legend(loc='upper right')"
   ]
  },
  {
   "cell_type": "markdown",
   "metadata": {},
   "source": [
    "__Conclusion: The learning curve continues to decrease as the number of objects grows, but the test curve grows significantly up to 7500 and then continues to grow weakly up to 17500 objects. \n",
    "It can be concluded that 12500-17500 objects of the training sample are enough to build a high-quality model__"
   ]
  },
  {
   "cell_type": "markdown",
   "metadata": {},
   "source": [
    "2\\. Часто несбалансированные по классам выборки приводят к различным проблемам при обучении моделей. Давайте попробуем по-разному обработать выборку, поиграть с распределением объектов по классам и сделать выводы о том, как соотношение классов влияет на качество модели."
   ]
  },
  {
   "cell_type": "markdown",
   "metadata": {},
   "source": [
    "2.1\\. Задайте веса объектам так, чтобы соотношение классов с учетом весов объектов изменилось. Попробуйте не менее трёх различных вариантов весов. Меняются ли результаты классификации? Как это сказывается на качестве модели? Какой вариант выглядит наиболее оптимальным с точки зрения качества?"
   ]
  },
  {
   "cell_type": "code",
   "execution_count": 32,
   "metadata": {},
   "outputs": [
    {
     "data": {
      "text/plain": [
       "-1    0.926406\n",
       " 1    0.073594\n",
       "Name: target, dtype: float64"
      ]
     },
     "execution_count": 32,
     "metadata": {},
     "output_type": "execute_result"
    }
   ],
   "source": [
    "y_train.value_counts(normalize=True)"
   ]
  },
  {
   "cell_type": "markdown",
   "metadata": {},
   "source": [
    "Let's change the __scale_pos_weight__"
   ]
  },
  {
   "cell_type": "code",
   "execution_count": 58,
   "metadata": {},
   "outputs": [
    {
     "data": {
      "text/plain": [
       "{1.0: 0.734541115233449,\n",
       " 1.5: 0.7342709357831954,\n",
       " 2.5: 0.7316413710125286,\n",
       " 4.0: 0.7335700885715983,\n",
       " 8.5: 0.7379852530213905,\n",
       " 12.5: 0.7293619865030997,\n",
       " 19.0: 0.7305089341699845,\n",
       " 37.5: 0.7219346756197726}"
      ]
     },
     "execution_count": 58,
     "metadata": {},
     "output_type": "execute_result"
    }
   ],
   "source": [
    "res = {}\n",
    "for weight in [1.0, 1.5, 2.5, 4.0, 8.5, 12.5, 19.0, 37.5]:\n",
    "    clf = xgb.XGBClassifier( random_state=9,scale_pos_weight=weight)\n",
    "    res[weight]=cross_val_score(clf,  X_train_fin, y_train, scoring='roc_auc', \n",
    "                                cv=StratifiedKFold(n_splits=3, shuffle=True)).mean()\n",
    "res"
   ]
  },
  {
   "cell_type": "code",
   "execution_count": 59,
   "metadata": {},
   "outputs": [
    {
     "data": {
      "image/png": "[encoded data removed]",
      "text/plain": [
       "<Figure size 432x288 with 1 Axes>"
      ]
     },
     "metadata": {
      "needs_background": "light"
     },
     "output_type": "display_data"
    }
   ],
   "source": [
    "plt.plot(list(res.keys()), list(res.values()),label='score')\n",
    "plt.xlabel('weight')\n",
    "plt.grid(True)\n",
    "plt.legend(loc='upper right')\n",
    "plt.show()"
   ]
  },
  {
   "cell_type": "markdown",
   "metadata": {},
   "source": [
    "__Conclusion: Imbalance towards class -1 ( 8.5) has showed the best result__"
   ]
  },
  {
   "cell_type": "markdown",
   "metadata": {},
   "source": [
    "2.2\\. Примените к выборке технологию undersampling: для этого нужно убрать из обучения некоторое количество объектов большего класса таким образом, чтобы соотношение классов изменилось. Попробуйте не менее трёх различных вариантов undersampling (варианты могут отличаться как по количество отфильтрованных объектов, так и по принципу выборка объектов для отсеивания из выборки). Меняются ли результаты классификации? Как это сказывается на качестве модели? Какой вариант выглядит наиболее оптимальным с точки зрения качества?"
   ]
  },
  {
   "cell_type": "code",
   "execution_count": 17,
   "metadata": {},
   "outputs": [],
   "source": [
    "# 1-RandomUnderSampler\n",
    "# 2-EditedNearestNeighbours\n",
    "# 3-NeighbourhoodCleaningRule\n",
    "from imblearn.under_sampling import RandomUnderSampler\n",
    "from imblearn.under_sampling import EditedNearestNeighbours\n",
    "from imblearn.under_sampling import NeighbourhoodCleaningRule\n",
    "under_firts= NeighbourhoodCleaningRule()\n",
    "under_second=EditedNearestNeighbours(sampling_strategy=\"not minority\")\n",
    "under_third=NeighbourhoodCleaningRule()\n",
    "X_res1, y_res1 = under_firts.fit_resample(X_train_fin, y_train)\n",
    "X_res2, y_res2 = under_second.fit_resample(X_train_fin, y_train)\n",
    "X_res3, y_res3 = under_third.fit_resample(X_train_fin, y_train)"
   ]
  },
  {
   "cell_type": "code",
   "execution_count": 26,
   "metadata": {},
   "outputs": [
    {
     "name": "stdout",
     "output_type": "stream",
     "text": [
      "ROC-AUC with using RandomUnderSampler = 0.7340507685103966\n",
      "ROC-AUC with using EditedNearestNeighbours = 0.7445370214010408\n",
      "ROC-AUC with using NeighbourhoodCleaningRule = 0.7382427744482323\n"
     ]
    }
   ],
   "source": [
    "clf = xgb.XGBClassifier(random_state=9)\n",
    "print('ROC-AUC with using RandomUnderSampler = {}'.format(cross_val_score(clf, \n",
    "                                                                          X_res1, y_res1, \n",
    "                                                                          scoring='roc_auc', \n",
    "                                                                          cv=StratifiedKFold(n_splits=3, shuffle=True)).mean()))\n",
    "print('ROC-AUC with using EditedNearestNeighbours = {}'.format(cross_val_score(clf, \n",
    "                                                                          X_res2, y_res2, \n",
    "                                                                          scoring='roc_auc', \n",
    "                                                                          cv=StratifiedKFold(n_splits=3, shuffle=True)).mean()))\n",
    "print('ROC-AUC with using NeighbourhoodCleaningRule = {}'.format(cross_val_score(clf, \n",
    "                                                                          X_res3, y_res3, \n",
    "                                                                          scoring='roc_auc', \n",
    "                                                                          cv=StratifiedKFold(n_splits=3, shuffle=True)).mean()))\n",
    "\n"
   ]
  },
  {
   "cell_type": "markdown",
   "metadata": {},
   "source": [
    "__Conclusion__: All of three methods have shown the similar results, but the EditedNearestNeighbours method has the highest ROC-AUC"
   ]
  },
  {
   "cell_type": "markdown",
   "metadata": {},
   "source": [
    "3\\. Теперь перейдем к работе с признаками. Ранее вы реализовали несколько стратегий для обработки пропущенных значений. Сравните эти стратегии между собой с помощью оценки качества моделей кросс-валидации, построенных на датасетах с использованием различных стратегий. Как обработка пропущенных значений сказывается на качестве модели? Какой вариант выглядит наиболее оптимальным с точки зрения качества?"
   ]
  },
  {
   "cell_type": "markdown",
   "metadata": {},
   "source": [
    "Let's fill missings with 3 different approaches:  \n",
    "1.__mean__  \n",
    "2.__median__  \n",
    "3.__zero filling__"
   ]
  },
  {
   "cell_type": "code",
   "execution_count": 13,
   "metadata": {},
   "outputs": [
    {
     "name": "stdout",
     "output_type": "stream",
     "text": [
      "ROC-AUC with using mean filling = 0.7330860686128542\n"
     ]
    }
   ],
   "source": [
    "# MEAN\n",
    "X_train_mean=X_train_no_prep.copy()\n",
    "\n",
    "# Numeric columns\n",
    "X_train_mean.loc[:,'Var6':'Var189'] = X_train_mean.loc[:,'Var6':'Var189'].fillna(X_train_mean.loc[:,'Var6':'Var189'].mean())\n",
    "# preprocessing categorical data\n",
    "col_to_drop=[]\n",
    "for i in train.keys():\n",
    "    if i not in categ_col:\n",
    "        col_to_drop.append(i)\n",
    "X_train_mean.drop(columns=col_to_drop,inplace=True)\n",
    "\n",
    "# creating the final training sample\n",
    "X_train_mean[categ_col]=X_train_mean[categ_col].fillna(-100)\n",
    "dummy=pd.get_dummies(X_train_mean[categ_col])\n",
    "X_train_mean_no_categ=X_train_mean.drop(columns=categ_col)\n",
    "X_train_mean_fin=pd.concat([X_train_mean_no_categ,dummy],axis=1)\n",
    "\n",
    "# Modelling\n",
    "clf = xgb.XGBClassifier(random_state=9)\n",
    "print('ROC-AUC with using mean filling = {}'.format(cross_val_score(clf, \n",
    "                                                                          X_train_mean_fin, y_train, \n",
    "                                                                          scoring='roc_auc', \n",
    "                                                                          cv=StratifiedKFold(n_splits=3, shuffle=True)).mean()))\n",
    "\n"
   ]
  },
  {
   "cell_type": "code",
   "execution_count": 14,
   "metadata": {},
   "outputs": [
    {
     "name": "stdout",
     "output_type": "stream",
     "text": [
      "ROC-AUC with using median filling = 0.7270283148804491\n"
     ]
    }
   ],
   "source": [
    "X_train_median=X_train_no_prep.copy()\n",
    "X_train_median.loc[:,'Var6':'Var189'] = X_train_median.loc[:,'Var6':'Var189'].fillna(X_train_median.loc[:,'Var6':'Var189'].median())\n",
    "col_to_drop=[]\n",
    "for i in train.keys():\n",
    "    if i not in categ_col:\n",
    "        col_to_drop.append(i)\n",
    "X_train_median.drop(columns=col_to_drop,inplace=True)\n",
    "\n",
    "# creating the final training sample\n",
    "X_train_median[categ_col]=X_train_median[categ_col].fillna(-100)\n",
    "dummy=pd.get_dummies(X_train_median[categ_col])\n",
    "X_train_median_no_categ=X_train_median.drop(columns=categ_col)\n",
    "X_train_median_fin=pd.concat([X_train_median_no_categ,dummy],axis=1)\n",
    "\n",
    "# Modelling\n",
    "clf = xgb.XGBClassifier(random_state=9)\n",
    "print('ROC-AUC with using median filling = {}'.format(cross_val_score(clf, \n",
    "                                                                          X_train_median_fin, y_train, \n",
    "                                                                          scoring='roc_auc', \n",
    "                                                                          cv=StratifiedKFold(n_splits=3, shuffle=True)).mean()))\n",
    "\n"
   ]
  },
  {
   "cell_type": "code",
   "execution_count": 15,
   "metadata": {},
   "outputs": [
    {
     "name": "stdout",
     "output_type": "stream",
     "text": [
      "ROC-AUC with using zero filling = 0.7348443990850791\n"
     ]
    }
   ],
   "source": [
    "X_train_zero=X_train_no_prep.copy()\n",
    "X_train_zero.loc[:,'Var6':'Var189'] = X_train_zero.loc[:,'Var6':'Var189'].fillna(0)\n",
    "col_to_drop=[]\n",
    "for i in train.keys():\n",
    "    if i not in categ_col:\n",
    "        col_to_drop.append(i)\n",
    "X_train_zero.drop(columns=col_to_drop,inplace=True)\n",
    "\n",
    "# creating the final training sample\n",
    "X_train_zero[categ_col]=X_train_zero[categ_col].fillna(-100)\n",
    "dummy=pd.get_dummies(X_train_zero[categ_col])\n",
    "X_train_zero_no_categ=X_train_zero.drop(columns=categ_col)\n",
    "X_train_zero_fin=pd.concat([X_train_zero_no_categ,dummy],axis=1)\n",
    "\n",
    "# Modelling\n",
    "clf = xgb.XGBClassifier(random_state=9)\n",
    "print('ROC-AUC with using zero filling = {}'.format(cross_val_score(clf, \n",
    "                                                                          X_train_zero_fin, y_train, \n",
    "                                                                          scoring='roc_auc', \n",
    "                                                                          cv=StratifiedKFold(n_splits=3, shuffle=True)).mean()))\n",
    "\n",
    "\n",
    "\n"
   ]
  },
  {
   "cell_type": "markdown",
   "metadata": {},
   "source": [
    "__Conclusion__: The filling missings with zero values has showed the highest ROC-AUC "
   ]
  },
  {
   "cell_type": "markdown",
   "metadata": {},
   "source": [
    "4\\. Также вы уже реализовали несколько стратегий для обработки категориальных признаков. Сравните эти стратегии между собой с помощью оценки качества моделей по кросс-валидации, построенных на датасетах с использованием различных стратегий. Как обработка категориальных признаков сказывается на качестве модели? Какой вариант выглядит наиболее оптимальным с точки зрения качества?"
   ]
  },
  {
   "cell_type": "markdown",
   "metadata": {},
   "source": [
    "Let's fill missings with 3 different approaches:   \n",
    "1.__get_dummies ( OneHotEncoder)__  \n",
    "2.__OrdinalEncoder__  \n",
    "3.__HashingEncoder__"
   ]
  },
  {
   "cell_type": "code",
   "execution_count": 11,
   "metadata": {},
   "outputs": [
    {
     "name": "stdout",
     "output_type": "stream",
     "text": [
      "ROC-AUC with get_dummies = 0.7350061592196688\n"
     ]
    }
   ],
   "source": [
    "# OneHotEncoder\n",
    "X_train_mean=X_train_no_prep.copy()\n",
    "\n",
    "# Numeric columns\n",
    "X_train_mean.loc[:,'Var6':'Var189'] = X_train_mean.loc[:,'Var6':'Var189'].fillna(X_train_mean.loc[:,'Var6':'Var189'].mean())\n",
    "# preprocessing categorical data\n",
    "col_to_drop=[]\n",
    "for i in train.keys():\n",
    "    if i not in categ_col:\n",
    "        col_to_drop.append(i)\n",
    "X_train_mean.drop(columns=col_to_drop,inplace=True)\n",
    "\n",
    "# creating the final training sample\n",
    "X_train_mean[categ_col]=X_train_mean[categ_col].fillna(-100)\n",
    "dummy=pd.get_dummies(X_train_mean[categ_col])\n",
    "X_train_mean_no_categ=X_train_mean.drop(columns=categ_col)\n",
    "X_train_mean_fin=pd.concat([X_train_mean_no_categ,dummy],axis=1)\n",
    "\n",
    "# Modelling\n",
    "clf = xgb.XGBClassifier(random_state=9)\n",
    "print('ROC-AUC with get_dummies = {}'.format(cross_val_score(clf, \n",
    "                                                                          X_train_mean_fin, y_train, \n",
    "                                                                          scoring='roc_auc', \n",
    "                                                                          cv=StratifiedKFold(n_splits=3, shuffle=True)).mean()))\n"
   ]
  },
  {
   "cell_type": "code",
   "execution_count": 22,
   "metadata": {},
   "outputs": [
    {
     "name": "stdout",
     "output_type": "stream",
     "text": [
      "ROC-AUC with OrdinalEncoder = 0.7342740369254847\n"
     ]
    }
   ],
   "source": [
    "# OrdinalEncoder\n",
    "from sklearn.preprocessing import OrdinalEncoder\n",
    "X_train_mean=X_train_no_prep.copy()\n",
    "\n",
    "# Numeric columns\n",
    "X_train_mean.loc[:,'Var6':'Var189'] = X_train_mean.loc[:,'Var6':'Var189'].fillna(X_train_mean.loc[:,'Var6':'Var189'].mean())\n",
    "# preprocessing categorical data\n",
    "col_to_drop=[]\n",
    "for i in train.keys():\n",
    "    if i not in categ_col:\n",
    "        col_to_drop.append(i)\n",
    "X_train_mean.drop(columns=col_to_drop,inplace=True)\n",
    "\n",
    "\n",
    "X_train_mean[categ_col]=X_train_mean[categ_col].fillna('-100')\n",
    "enc_1=OrdinalEncoder()\n",
    "enc_1.fit(X_train_mean[categ_col])\n",
    "X_train_mean[categ_col]=enc_1.transform(X_train_mean[categ_col])\n",
    "\n",
    "# Modelling\n",
    "clf = xgb.XGBClassifier(random_state=9)\n",
    "print('ROC-AUC with OrdinalEncoder = {}'.format(cross_val_score(clf, \n",
    "                                                                          X_train_mean, y_train, \n",
    "                                                                          scoring='roc_auc', \n",
    "                                                                          cv=StratifiedKFold(n_splits=3, shuffle=True)).mean()))\n",
    "\n"
   ]
  },
  {
   "cell_type": "code",
   "execution_count": 26,
   "metadata": {},
   "outputs": [
    {
     "name": "stdout",
     "output_type": "stream",
     "text": [
      "ROC-AUC with HashingEncoder = 0.732228055111432\n"
     ]
    }
   ],
   "source": [
    "from category_encoders import HashingEncoder\n",
    "X_train_mean=X_train_no_prep.copy()\n",
    "\n",
    "# Numeric columns\n",
    "X_train_mean.loc[:,'Var6':'Var189'] = X_train_mean.loc[:,'Var6':'Var189'].fillna(X_train_mean.loc[:,'Var6':'Var189'].mean())\n",
    "# preprocessing categorical data\n",
    "col_to_drop=[]\n",
    "for i in train.keys():\n",
    "    if i not in categ_col:\n",
    "        col_to_drop.append(i)\n",
    "X_train_mean.drop(columns=col_to_drop,inplace=True)\n",
    "\n",
    "\n",
    "X_train_mean[categ_col]=X_train_mean[categ_col].fillna('-100')\n",
    "enc_2=HashingEncoder()\n",
    "enc_2.fit(X_train_mean[categ_col])\n",
    "X_train_mean[categ_col]=enc_1.transform(X_train_mean[categ_col])\n",
    "\n",
    "clf = xgb.XGBClassifier(random_state=9)\n",
    "print('ROC-AUC with HashingEncoder = {}'.format(cross_val_score(clf, \n",
    "                                                                          X_train_mean, y_train, \n",
    "                                                                          scoring='roc_auc', \n",
    "                                                                          cv=StratifiedKFold(n_splits=3, shuffle=True)).mean()))\n"
   ]
  },
  {
   "cell_type": "markdown",
   "metadata": {},
   "source": [
    "__Conclusion__: All of three methods have shown the similar results, but the OneHotEncoding method has the highest ROC-AUC"
   ]
  },
  {
   "cell_type": "markdown",
   "metadata": {},
   "source": [
    "5\\. Все ли признаки оказались полезными для построения моделей? Проведите процедуру отбора признаков, попробуйте разные варианты отбора (обратите внимание на модуль `sklearn.feature_selection`). Например, можно выбрасывать случайные признаки или строить отбор на основе l1-регуляризации - отфильтровать из обучения признаки, которые получат нулевой вес при построении регрессии с l1-регуляризацией (`sklearn.linear_model.Lasso`). И всегда можно придумать что-то своё=) Попробуйте как минимум 2 различные стратегии, сравните результаты. Помог ли отбор признаков улучшить качество модели? Поясните свой ответ."
   ]
  },
  {
   "cell_type": "markdown",
   "metadata": {},
   "source": [
    "Let's making feature selection with 2 different approaches:  \n",
    "1.with model XGBoost  \n",
    "2.sklearn.linear_model.Lasso"
   ]
  },
  {
   "cell_type": "code",
   "execution_count": 38,
   "metadata": {},
   "outputs": [
    {
     "name": "stdout",
     "output_type": "stream",
     "text": [
      "Number of columns after feature selection=31\n",
      "Roc Auc with feature selection= 0.7347090011430782\n"
     ]
    }
   ],
   "source": [
    "X_train_mean=X_train_no_prep.copy()\n",
    "\n",
    "# Numeric columns\n",
    "X_train_mean.loc[:,'Var6':'Var189'] = X_train_mean.loc[:,'Var6':'Var189'].fillna(X_train_mean.loc[:,'Var6':'Var189'].mean())\n",
    "# preprocessing categorical data\n",
    "col_to_drop=[]\n",
    "for i in train.keys():\n",
    "    if i not in categ_col:\n",
    "        col_to_drop.append(i)\n",
    "X_train_mean.drop(columns=col_to_drop,inplace=True)\n",
    "\n",
    "# creating the final training sample\n",
    "X_train_mean[categ_col]=X_train_mean[categ_col].fillna(-100)\n",
    "dummy=pd.get_dummies(X_train_mean[categ_col])\n",
    "X_train_mean_no_categ=X_train_mean.drop(columns=categ_col)\n",
    "X_train_mean_fin=pd.concat([X_train_mean_no_categ,dummy],axis=1)\n",
    "\n",
    "\n",
    "thershold=0.01\n",
    "clf = xgb.XGBClassifier(random_state=9)\n",
    "clf.fit(X_train_mean_fin,y_train)\n",
    "new_vars = X_train_mean_fin.columns[clf.feature_importances_ > thershold]\n",
    "df_after_selection = X_train_mean_fin[new_vars]\n",
    "print(f'Number of columns after feature selection={len(new_vars)}')\n",
    "print('Roc Auc with feature selection=',cross_val_score(clf, df_after_selection, y_train, scoring ='roc_auc',\n",
    "                                                    cv=StratifiedKFold(n_splits=3, shuffle=True)).mean())\n"
   ]
  },
  {
   "cell_type": "code",
   "execution_count": 39,
   "metadata": {},
   "outputs": [
    {
     "name": "stdout",
     "output_type": "stream",
     "text": [
      "Number of columns after feature selection=18\n",
      "Roc Auc with feature selection= 0.6506250794174592\n"
     ]
    }
   ],
   "source": [
    "from sklearn.linear_model import Lasso\n",
    "X_train_mean=X_train_no_prep.copy()\n",
    "\n",
    "# Numeric columns\n",
    "X_train_mean.loc[:,'Var6':'Var189'] = X_train_mean.loc[:,'Var6':'Var189'].fillna(X_train_mean.loc[:,'Var6':'Var189'].mean())\n",
    "# preprocessing categorical data\n",
    "col_to_drop=[]\n",
    "for i in train.keys():\n",
    "    if i not in categ_col:\n",
    "        col_to_drop.append(i)\n",
    "X_train_mean.drop(columns=col_to_drop,inplace=True)\n",
    "\n",
    "# creating the final training sample\n",
    "X_train_mean[categ_col]=X_train_mean[categ_col].fillna(-100)\n",
    "dummy=pd.get_dummies(X_train_mean[categ_col])\n",
    "X_train_mean_no_categ=X_train_mean.drop(columns=categ_col)\n",
    "X_train_mean_fin=pd.concat([X_train_mean_no_categ,dummy],axis=1)\n",
    "lasso = Lasso()\n",
    "lasso.fit(X_train_mean_fin,y_train)\n",
    "\n",
    "new_vars = X_train_mean_fin.columns[lasso.coef_ != 0]\n",
    "df_after_selection = X_train_mean_fin[new_vars]\n",
    "\n",
    "clf = xgb.XGBClassifier(random_state=9)\n",
    "print(f'Number of columns after feature selection={len(new_vars)}')\n",
    "print('Roc Auc with feature selection=',cross_val_score(clf, df_after_selection, y_train, scoring ='roc_auc',\n",
    "                                                    cv=StratifiedKFold(n_splits=3, shuffle=True)).mean())\n"
   ]
  },
  {
   "cell_type": "markdown",
   "metadata": {},
   "source": [
    "__Conclusion__: Feature selection using by feature_importances_ has shown the best ROC-AUC. But model with all features has a little better performance "
   ]
  },
  {
   "cell_type": "markdown",
   "metadata": {},
   "source": [
    "6\\. Подберите оптимальные параметры модели. Обратите внимание, что в зависимости от того, как вы обработали исходные данные, сделали ли балансировку классов, сколько объектов оставили в обучающей выборке и др. оптимальные значения параметров могут меняться. Возьмите наилучшее из ваших решений на текущий момент и проведите процедуру подбора параметров модели (обратите внимание на `sklearn.model_selection.GridSearchCV`) Как подбор параметров повлиял на качество модели?"
   ]
  },
  {
   "cell_type": "markdown",
   "metadata": {},
   "source": [
    "We are going to use __RandomizedSearchCV__"
   ]
  },
  {
   "cell_type": "code",
   "execution_count": 41,
   "metadata": {},
   "outputs": [
    {
     "name": "stdout",
     "output_type": "stream",
     "text": [
      "{'subsample': 0.6, 'min_child_weight': 5, 'max_depth': 3, 'gamma': 2, 'colsample_bytree': 0.8}\n",
      "XGBClassifier(colsample_bytree=0.8, gamma=2, min_child_weight=5, random_state=9,\n",
      "              subsample=0.6)\n"
     ]
    }
   ],
   "source": [
    "params = {\n",
    "        'min_child_weight': [1, 5, 10],\n",
    "        'gamma': [0,0.5, 1, 1.5, 2, 5],\n",
    "        'subsample': [0.6, 0.8, 1.0],\n",
    "        'colsample_bytree': [0.6, 0.8, 1.0],\n",
    "        'max_depth': [3, 4, 5,6,7]\n",
    "        } \n",
    "model = xgb.XGBClassifier(random_state=9)\n",
    "clf=RandomizedSearchCV(model,params,scoring='roc_auc')\n",
    "clf.fit(X_train_fin, y_train)\n",
    "print(clf.best_params_)\n",
    "print(clf.best_estimator_)"
   ]
  },
  {
   "cell_type": "code",
   "execution_count": 42,
   "metadata": {},
   "outputs": [
    {
     "name": "stdout",
     "output_type": "stream",
     "text": [
      "Roc Auc with feature selection= 0.7369371232176976\n"
     ]
    }
   ],
   "source": [
    "xg_reg_mod = xgb.XGBClassifier(colsample_bytree=0.8, gamma=2, min_child_weight=5, random_state=9,\n",
    "              subsample=0.6)\n",
    "print('Roc Auc with feature selection=',cross_val_score(xg_reg_mod, X_train_fin, y_train, scoring ='roc_auc',\n",
    "                                                    cv=StratifiedKFold(n_splits=3, shuffle=True)).mean())\n"
   ]
  },
  {
   "cell_type": "markdown",
   "metadata": {},
   "source": [
    "7\\. Предложите методику оценки того, какие признаки внесли наибольший вклад в модель (например, это могут быть веса в случае регрессии, а также большое количество моделей реализуют метод `feature_importances_` - оценка важности признаков). На основе предложенной методики проанализируйте, какие признаки внесли больший вклад в модель, а какие меньший?"
   ]
  },
  {
   "cell_type": "code",
   "execution_count": 50,
   "metadata": {},
   "outputs": [],
   "source": [
    "xg_reg_mod = xgb.XGBClassifier(colsample_bytree=0.8, gamma=2, min_child_weight=5, random_state=9,\n",
    "              subsample=0.6)\n",
    "xg_reg_mod.fit(X_train_fin, y_train)\n",
    "# Top 10 features\n",
    "features={}\n",
    "for i,j in  zip(X_train_fin.columns[:10],xg_reg_mod.feature_importances_[:10] ):\n",
    "    features[i]=j"
   ]
  },
  {
   "cell_type": "code",
   "execution_count": 51,
   "metadata": {},
   "outputs": [
    {
     "data": {
      "text/plain": [
       "{'Var6': 0.013897232,\n",
       " 'Var7': 0.010904791,\n",
       " 'Var13': 0.017002296,\n",
       " 'Var21': 0.012705123,\n",
       " 'Var22': 0.012122465,\n",
       " 'Var24': 0.005196493,\n",
       " 'Var25': 0.014400118,\n",
       " 'Var28': 0.010388267,\n",
       " 'Var35': 0.010203031,\n",
       " 'Var38': 0.010378593}"
      ]
     },
     "execution_count": 51,
     "metadata": {},
     "output_type": "execute_result"
    }
   ],
   "source": [
    "features"
   ]
  },
  {
   "cell_type": "markdown",
   "metadata": {},
   "source": [
    "8\\. Напоследок давайте посмотрим на объекты. На каких объектах достигается наибольшая ошибка классификации? Есть ли межу этими объектами что-то общее? Видны ли какие-либо закономерности? Предположите, почему наибольшая ошибка достигается именно на этих объектах. В данном случае \"наибольшую\" ошибку можно понимать как отнесение объекта с чужому классу с большой долей уверенности (с высокой вероятностью)."
   ]
  },
  {
   "cell_type": "code",
   "execution_count": 57,
   "metadata": {},
   "outputs": [],
   "source": [
    "xg_reg_mod = xgb.XGBClassifier(colsample_bytree=0.8, gamma=2, min_child_weight=5, random_state=9,\n",
    "              subsample=0.6)\n",
    "xg_reg_mod.fit(X_train_fin, y_train)\n",
    "for_analysis = X_train_fin.copy()\n",
    "for_analysis[\"target\"] = y_train\n",
    "for_analysis['prediction'] = xg_reg_mod.predict_proba(X_train_fin)[:,1]"
   ]
  },
  {
   "cell_type": "code",
   "execution_count": 61,
   "metadata": {},
   "outputs": [
    {
     "data": {
      "text/html": [
       "<div>\n",
       "<style scoped>\n",
       "    .dataframe tbody tr th:only-of-type {\n",
       "        vertical-align: middle;\n",
       "    }\n",
       "\n",
       "    .dataframe tbody tr th {\n",
       "        vertical-align: top;\n",
       "    }\n",
       "\n",
       "    .dataframe thead th {\n",
       "        text-align: right;\n",
       "    }\n",
       "</style>\n",
       "<table border=\"1\" class=\"dataframe\">\n",
       "  <thead>\n",
       "    <tr style=\"text-align: right;\">\n",
       "      <th></th>\n",
       "      <th>Var6</th>\n",
       "      <th>Var7</th>\n",
       "      <th>Var13</th>\n",
       "      <th>Var21</th>\n",
       "      <th>Var22</th>\n",
       "      <th>Var24</th>\n",
       "      <th>Var25</th>\n",
       "      <th>Var28</th>\n",
       "      <th>Var35</th>\n",
       "      <th>Var38</th>\n",
       "      <th>...</th>\n",
       "      <th>Var227_nIGXDli</th>\n",
       "      <th>Var227_nIGjgSB</th>\n",
       "      <th>Var227_vJ_w8kB</th>\n",
       "      <th>Var229_-100</th>\n",
       "      <th>Var229_am7c</th>\n",
       "      <th>Var229_mj86</th>\n",
       "      <th>Var229_oJmt</th>\n",
       "      <th>Var229_sk2h</th>\n",
       "      <th>target</th>\n",
       "      <th>prediction</th>\n",
       "    </tr>\n",
       "  </thead>\n",
       "  <tbody>\n",
       "    <tr>\n",
       "      <td>38498</td>\n",
       "      <td>560.000000</td>\n",
       "      <td>0.00000</td>\n",
       "      <td>0.00000</td>\n",
       "      <td>0.000000</td>\n",
       "      <td>0.000000</td>\n",
       "      <td>4.56433</td>\n",
       "      <td>0.000000</td>\n",
       "      <td>230.080000</td>\n",
       "      <td>0.000000</td>\n",
       "      <td>0.000000e+00</td>\n",
       "      <td>...</td>\n",
       "      <td>0</td>\n",
       "      <td>0</td>\n",
       "      <td>0</td>\n",
       "      <td>1</td>\n",
       "      <td>0</td>\n",
       "      <td>0</td>\n",
       "      <td>0</td>\n",
       "      <td>0</td>\n",
       "      <td>-1</td>\n",
       "      <td>0.606597</td>\n",
       "    </tr>\n",
       "    <tr>\n",
       "      <td>6984</td>\n",
       "      <td>280.000000</td>\n",
       "      <td>0.00000</td>\n",
       "      <td>0.00000</td>\n",
       "      <td>740.000000</td>\n",
       "      <td>925.000000</td>\n",
       "      <td>14.00000</td>\n",
       "      <td>240.000000</td>\n",
       "      <td>20.080000</td>\n",
       "      <td>0.000000</td>\n",
       "      <td>4.787130e+06</td>\n",
       "      <td>...</td>\n",
       "      <td>0</td>\n",
       "      <td>0</td>\n",
       "      <td>0</td>\n",
       "      <td>1</td>\n",
       "      <td>0</td>\n",
       "      <td>0</td>\n",
       "      <td>0</td>\n",
       "      <td>0</td>\n",
       "      <td>-1</td>\n",
       "      <td>0.580339</td>\n",
       "    </tr>\n",
       "    <tr>\n",
       "      <td>17147</td>\n",
       "      <td>42.000000</td>\n",
       "      <td>0.00000</td>\n",
       "      <td>0.00000</td>\n",
       "      <td>40.000000</td>\n",
       "      <td>50.000000</td>\n",
       "      <td>2.00000</td>\n",
       "      <td>24.000000</td>\n",
       "      <td>415.280000</td>\n",
       "      <td>5.000000</td>\n",
       "      <td>4.923828e+06</td>\n",
       "      <td>...</td>\n",
       "      <td>0</td>\n",
       "      <td>0</td>\n",
       "      <td>0</td>\n",
       "      <td>1</td>\n",
       "      <td>0</td>\n",
       "      <td>0</td>\n",
       "      <td>0</td>\n",
       "      <td>0</td>\n",
       "      <td>-1</td>\n",
       "      <td>0.567471</td>\n",
       "    </tr>\n",
       "    <tr>\n",
       "      <td>28807</td>\n",
       "      <td>707.000000</td>\n",
       "      <td>7.00000</td>\n",
       "      <td>4.00000</td>\n",
       "      <td>128.000000</td>\n",
       "      <td>160.000000</td>\n",
       "      <td>0.00000</td>\n",
       "      <td>48.000000</td>\n",
       "      <td>589.600000</td>\n",
       "      <td>10.000000</td>\n",
       "      <td>3.296346e+06</td>\n",
       "      <td>...</td>\n",
       "      <td>0</td>\n",
       "      <td>0</td>\n",
       "      <td>0</td>\n",
       "      <td>1</td>\n",
       "      <td>0</td>\n",
       "      <td>0</td>\n",
       "      <td>0</td>\n",
       "      <td>0</td>\n",
       "      <td>-1</td>\n",
       "      <td>0.566946</td>\n",
       "    </tr>\n",
       "    <tr>\n",
       "      <td>37549</td>\n",
       "      <td>1326.551049</td>\n",
       "      <td>6.80378</td>\n",
       "      <td>1241.19882</td>\n",
       "      <td>234.149088</td>\n",
       "      <td>289.503577</td>\n",
       "      <td>4.56433</td>\n",
       "      <td>96.919017</td>\n",
       "      <td>223.738787</td>\n",
       "      <td>0.711384</td>\n",
       "      <td>2.563561e+06</td>\n",
       "      <td>...</td>\n",
       "      <td>0</td>\n",
       "      <td>0</td>\n",
       "      <td>0</td>\n",
       "      <td>1</td>\n",
       "      <td>0</td>\n",
       "      <td>0</td>\n",
       "      <td>0</td>\n",
       "      <td>0</td>\n",
       "      <td>-1</td>\n",
       "      <td>0.560103</td>\n",
       "    </tr>\n",
       "  </tbody>\n",
       "</table>\n",
       "<p>5 rows × 220 columns</p>\n",
       "</div>"
      ],
      "text/plain": [
       "              Var6     Var7       Var13       Var21       Var22     Var24  \\\n",
       "38498   560.000000  0.00000     0.00000    0.000000    0.000000   4.56433   \n",
       "6984    280.000000  0.00000     0.00000  740.000000  925.000000  14.00000   \n",
       "17147    42.000000  0.00000     0.00000   40.000000   50.000000   2.00000   \n",
       "28807   707.000000  7.00000     4.00000  128.000000  160.000000   0.00000   \n",
       "37549  1326.551049  6.80378  1241.19882  234.149088  289.503577   4.56433   \n",
       "\n",
       "            Var25       Var28      Var35         Var38  ...  Var227_nIGXDli  \\\n",
       "38498    0.000000  230.080000   0.000000  0.000000e+00  ...               0   \n",
       "6984   240.000000   20.080000   0.000000  4.787130e+06  ...               0   \n",
       "17147   24.000000  415.280000   5.000000  4.923828e+06  ...               0   \n",
       "28807   48.000000  589.600000  10.000000  3.296346e+06  ...               0   \n",
       "37549   96.919017  223.738787   0.711384  2.563561e+06  ...               0   \n",
       "\n",
       "       Var227_nIGjgSB  Var227_vJ_w8kB  Var229_-100  Var229_am7c  Var229_mj86  \\\n",
       "38498               0               0            1            0            0   \n",
       "6984                0               0            1            0            0   \n",
       "17147               0               0            1            0            0   \n",
       "28807               0               0            1            0            0   \n",
       "37549               0               0            1            0            0   \n",
       "\n",
       "       Var229_oJmt  Var229_sk2h  target  prediction  \n",
       "38498            0            0      -1    0.606597  \n",
       "6984             0            0      -1    0.580339  \n",
       "17147            0            0      -1    0.567471  \n",
       "28807            0            0      -1    0.566946  \n",
       "37549            0            0      -1    0.560103  \n",
       "\n",
       "[5 rows x 220 columns]"
      ]
     },
     "execution_count": 61,
     "metadata": {},
     "output_type": "execute_result"
    }
   ],
   "source": [
    "for_analysis[for_analysis['target'] == -1].sort_values('prediction', ascending=False).head(5)"
   ]
  },
  {
   "cell_type": "code",
   "execution_count": 62,
   "metadata": {},
   "outputs": [
    {
     "data": {
      "text/html": [
       "<div>\n",
       "<style scoped>\n",
       "    .dataframe tbody tr th:only-of-type {\n",
       "        vertical-align: middle;\n",
       "    }\n",
       "\n",
       "    .dataframe tbody tr th {\n",
       "        vertical-align: top;\n",
       "    }\n",
       "\n",
       "    .dataframe thead th {\n",
       "        text-align: right;\n",
       "    }\n",
       "</style>\n",
       "<table border=\"1\" class=\"dataframe\">\n",
       "  <thead>\n",
       "    <tr style=\"text-align: right;\">\n",
       "      <th></th>\n",
       "      <th>Var6</th>\n",
       "      <th>Var7</th>\n",
       "      <th>Var13</th>\n",
       "      <th>Var21</th>\n",
       "      <th>Var22</th>\n",
       "      <th>Var24</th>\n",
       "      <th>Var25</th>\n",
       "      <th>Var28</th>\n",
       "      <th>Var35</th>\n",
       "      <th>Var38</th>\n",
       "      <th>...</th>\n",
       "      <th>Var227_nIGXDli</th>\n",
       "      <th>Var227_nIGjgSB</th>\n",
       "      <th>Var227_vJ_w8kB</th>\n",
       "      <th>Var229_-100</th>\n",
       "      <th>Var229_am7c</th>\n",
       "      <th>Var229_mj86</th>\n",
       "      <th>Var229_oJmt</th>\n",
       "      <th>Var229_sk2h</th>\n",
       "      <th>target</th>\n",
       "      <th>prediction</th>\n",
       "    </tr>\n",
       "  </thead>\n",
       "  <tbody>\n",
       "    <tr>\n",
       "      <td>4309</td>\n",
       "      <td>1246.0</td>\n",
       "      <td>7.0</td>\n",
       "      <td>4712.0</td>\n",
       "      <td>180.0</td>\n",
       "      <td>225.0</td>\n",
       "      <td>4.0</td>\n",
       "      <td>128.0</td>\n",
       "      <td>176.56</td>\n",
       "      <td>0.0</td>\n",
       "      <td>3762.0</td>\n",
       "      <td>...</td>\n",
       "      <td>0</td>\n",
       "      <td>0</td>\n",
       "      <td>0</td>\n",
       "      <td>0</td>\n",
       "      <td>1</td>\n",
       "      <td>0</td>\n",
       "      <td>0</td>\n",
       "      <td>0</td>\n",
       "      <td>1</td>\n",
       "      <td>0.007792</td>\n",
       "    </tr>\n",
       "    <tr>\n",
       "      <td>4135</td>\n",
       "      <td>4879.0</td>\n",
       "      <td>35.0</td>\n",
       "      <td>1684.0</td>\n",
       "      <td>568.0</td>\n",
       "      <td>710.0</td>\n",
       "      <td>32.0</td>\n",
       "      <td>72.0</td>\n",
       "      <td>186.64</td>\n",
       "      <td>0.0</td>\n",
       "      <td>76404.0</td>\n",
       "      <td>...</td>\n",
       "      <td>0</td>\n",
       "      <td>0</td>\n",
       "      <td>0</td>\n",
       "      <td>1</td>\n",
       "      <td>0</td>\n",
       "      <td>0</td>\n",
       "      <td>0</td>\n",
       "      <td>0</td>\n",
       "      <td>1</td>\n",
       "      <td>0.010194</td>\n",
       "    </tr>\n",
       "    <tr>\n",
       "      <td>4012</td>\n",
       "      <td>2226.0</td>\n",
       "      <td>7.0</td>\n",
       "      <td>3908.0</td>\n",
       "      <td>504.0</td>\n",
       "      <td>630.0</td>\n",
       "      <td>14.0</td>\n",
       "      <td>296.0</td>\n",
       "      <td>223.36</td>\n",
       "      <td>0.0</td>\n",
       "      <td>369966.0</td>\n",
       "      <td>...</td>\n",
       "      <td>0</td>\n",
       "      <td>0</td>\n",
       "      <td>0</td>\n",
       "      <td>0</td>\n",
       "      <td>0</td>\n",
       "      <td>1</td>\n",
       "      <td>0</td>\n",
       "      <td>0</td>\n",
       "      <td>1</td>\n",
       "      <td>0.010593</td>\n",
       "    </tr>\n",
       "    <tr>\n",
       "      <td>21429</td>\n",
       "      <td>854.0</td>\n",
       "      <td>14.0</td>\n",
       "      <td>4752.0</td>\n",
       "      <td>200.0</td>\n",
       "      <td>250.0</td>\n",
       "      <td>0.0</td>\n",
       "      <td>40.0</td>\n",
       "      <td>200.00</td>\n",
       "      <td>0.0</td>\n",
       "      <td>92916.0</td>\n",
       "      <td>...</td>\n",
       "      <td>0</td>\n",
       "      <td>0</td>\n",
       "      <td>0</td>\n",
       "      <td>0</td>\n",
       "      <td>0</td>\n",
       "      <td>1</td>\n",
       "      <td>0</td>\n",
       "      <td>0</td>\n",
       "      <td>1</td>\n",
       "      <td>0.011038</td>\n",
       "    </tr>\n",
       "    <tr>\n",
       "      <td>7761</td>\n",
       "      <td>7476.0</td>\n",
       "      <td>28.0</td>\n",
       "      <td>9136.0</td>\n",
       "      <td>980.0</td>\n",
       "      <td>1225.0</td>\n",
       "      <td>46.0</td>\n",
       "      <td>472.0</td>\n",
       "      <td>166.56</td>\n",
       "      <td>0.0</td>\n",
       "      <td>1792152.0</td>\n",
       "      <td>...</td>\n",
       "      <td>0</td>\n",
       "      <td>0</td>\n",
       "      <td>0</td>\n",
       "      <td>0</td>\n",
       "      <td>1</td>\n",
       "      <td>0</td>\n",
       "      <td>0</td>\n",
       "      <td>0</td>\n",
       "      <td>1</td>\n",
       "      <td>0.011813</td>\n",
       "    </tr>\n",
       "  </tbody>\n",
       "</table>\n",
       "<p>5 rows × 220 columns</p>\n",
       "</div>"
      ],
      "text/plain": [
       "         Var6  Var7   Var13  Var21   Var22  Var24  Var25   Var28  Var35  \\\n",
       "4309   1246.0   7.0  4712.0  180.0   225.0    4.0  128.0  176.56    0.0   \n",
       "4135   4879.0  35.0  1684.0  568.0   710.0   32.0   72.0  186.64    0.0   \n",
       "4012   2226.0   7.0  3908.0  504.0   630.0   14.0  296.0  223.36    0.0   \n",
       "21429   854.0  14.0  4752.0  200.0   250.0    0.0   40.0  200.00    0.0   \n",
       "7761   7476.0  28.0  9136.0  980.0  1225.0   46.0  472.0  166.56    0.0   \n",
       "\n",
       "           Var38  ...  Var227_nIGXDli  Var227_nIGjgSB  Var227_vJ_w8kB  \\\n",
       "4309      3762.0  ...               0               0               0   \n",
       "4135     76404.0  ...               0               0               0   \n",
       "4012    369966.0  ...               0               0               0   \n",
       "21429    92916.0  ...               0               0               0   \n",
       "7761   1792152.0  ...               0               0               0   \n",
       "\n",
       "       Var229_-100  Var229_am7c  Var229_mj86  Var229_oJmt  Var229_sk2h  \\\n",
       "4309             0            1            0            0            0   \n",
       "4135             1            0            0            0            0   \n",
       "4012             0            0            1            0            0   \n",
       "21429            0            0            1            0            0   \n",
       "7761             0            1            0            0            0   \n",
       "\n",
       "       target  prediction  \n",
       "4309        1    0.007792  \n",
       "4135        1    0.010194  \n",
       "4012        1    0.010593  \n",
       "21429       1    0.011038  \n",
       "7761        1    0.011813  \n",
       "\n",
       "[5 rows x 220 columns]"
      ]
     },
     "execution_count": 62,
     "metadata": {},
     "output_type": "execute_result"
    }
   ],
   "source": [
    "for_analysis[for_analysis['target'] == 1].sort_values('prediction', ascending=True).head(5)"
   ]
  },
  {
   "cell_type": "markdown",
   "metadata": {},
   "source": [
    "__Conclusion__: Too many columns have been deleted so there are many errors. It seems to need to use dimensionality reduction methods (e.x. PCA, tSNE)"
   ]
  },
  {
   "cell_type": "markdown",
   "metadata": {},
   "source": [
    "9\\. По итогам проведенных экспериментов постройте финальную решение - модель с наилучшим качеством. Укажите, какие преобразования данных, параметры и пр. вы выбрали для построения финальной модели."
   ]
  },
  {
   "cell_type": "code",
   "execution_count": 63,
   "metadata": {},
   "outputs": [
    {
     "name": "stdout",
     "output_type": "stream",
     "text": [
      "Final model:XGBClassifier(colsample_bytree=0.8, min_child_weight=10, random_state=9,\n",
      "              subsample=0.6)\n"
     ]
    }
   ],
   "source": [
    "X_train_mean=X_train_no_prep.copy()\n",
    "\n",
    "# Numeric columns\n",
    "X_train_mean.loc[:,'Var6':'Var189'] = X_train_mean.loc[:,'Var6':'Var189'].fillna(X_train_mean.loc[:,'Var6':'Var189'].mean())\n",
    "# preprocessing categorical data\n",
    "col_to_drop=[]\n",
    "for i in train.keys():\n",
    "    if i not in categ_col:\n",
    "        col_to_drop.append(i)\n",
    "X_train_mean.drop(columns=col_to_drop,inplace=True)\n",
    "\n",
    "# creating the final training sample\n",
    "X_train_mean[categ_col]=X_train_mean[categ_col].fillna(-100)\n",
    "dummy=pd.get_dummies(X_train_mean[categ_col])\n",
    "X_train_mean_no_categ=X_train_mean.drop(columns=categ_col)\n",
    "X_train_mean_fin=pd.concat([X_train_mean_no_categ,dummy],axis=1)\n",
    "\n",
    "params = {\n",
    "        'min_child_weight': [1, 5, 10],\n",
    "        'gamma': [0,0.5, 1, 1.5, 2, 5],\n",
    "        'subsample': [0.6, 0.8, 1.0],\n",
    "        'colsample_bytree': [0.6, 0.8, 1.0],\n",
    "        'max_depth': [3, 4, 5,6,7,10]\n",
    "        } \n",
    "model = xgb.XGBClassifier(random_state=9)\n",
    "clf=RandomizedSearchCV(model,params,scoring='roc_auc')\n",
    "clf.fit(X_train_fin, y_train)\n",
    "print(f'Final model:{clf.best_estimator_}')"
   ]
  },
  {
   "cell_type": "markdown",
   "metadata": {},
   "source": [
    "* First of all it is necessary to fill missings with mean values;\n",
    "* Secondly categorical features were processed by OneHotEncoding;\n",
    "* None of undersampling methods was used;\n",
    "* Final model was build on numeric features which have less than 75% missings and categorical features for which the number of unique values in the training and test samples is the same;\n",
    "* Finally the parameyers of the model were selected by RandomizedSearchCV.\n"
   ]
  },
  {
   "cell_type": "markdown",
   "metadata": {},
   "source": [
    "10\\. Подумайте, можно ли еще улучшить модель? Что для этого можно сделать? "
   ]
  },
  {
   "cell_type": "markdown",
   "metadata": {
    "collapsed": true
   },
   "source": [
    "* It seems to to need to use dimensionality reduction methods (e.x. PCA, tSNE);\n",
    "* It is possible to use another methods of processing categorical data ( Binary method, target-based methods);\n",
    "* Using the another models ( RandomForest with tuning parameters or Catboost)."
   ]
  }
 ],
 "metadata": {
  "kernelspec": {
   "display_name": "Python 3",
   "language": "python",
   "name": "python3"
  },
  "language_info": {
   "codemirror_mode": {
    "name": "ipython",
    "version": 3
   },
   "file_extension": ".py",
   "mimetype": "text/x-python",
   "name": "python",
   "nbconvert_exporter": "python",
   "pygments_lexer": "ipython3",
   "version": "3.7.4"
  }
 },
 "nbformat": 4,
 "nbformat_minor": 1
}
